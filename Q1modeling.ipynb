{
 "cells": [
  {
   "cell_type": "markdown",
   "metadata": {},
   "source": [
    "## What does Canada produce locally?"
   ]
  },
  {
   "cell_type": "code",
   "execution_count": 28,
   "metadata": {},
   "outputs": [],
   "source": [
    "# import visual libraries and read data\n",
    "import panel as pn\n",
    "pn.extension('tabulator', template='material')\n",
    "import pandas as pd\n",
    "import hvplot.pandas\n",
    "import holoviews as hv\n",
    "import colorcet as cc\n",
    "\n",
    "dfGroupProd = pd.read_pickle('Q1data/GroupProduction.pkl')\n",
    "Production = pd.read_pickle('Q1data/CanadaProduction.pkl')\n",
    "dfPyramidPreds = pd.read_pickle('Q1data/dfPyramidPreds.pkl')\n",
    "dfCanadianIntake = pd.read_pickle('Q1data/dfCanadianIntake.pkl')\n",
    "dfAvail = pd.read_pickle('Q1data/dfAvail.pkl')\n",
    "dfImports = pd.read_csv('Q1data/dfImportsViz.csv')\n",
    "dfExports = pd.read_csv('Q1data/dfExportsViz.csv')"
   ]
  },
  {
   "cell_type": "code",
   "execution_count": 18,
   "metadata": {},
   "outputs": [],
   "source": [
    "# create 2 linked widgets\n",
    "dfGroupProd.drop('index', axis=1, inplace=True)\n",
    "interactiveGroupProd = dfGroupProd.interactive(sizing_mode='stretch_both')\n",
    "selectProdYear = pn.widgets.IntRangeSlider(name='Year', start=int(dfGroupProd['Year'].unique()[4]), end=int(dfGroupProd['Year'].unique()[0]))\n",
    "sliderProdValue = pn.widgets.IntSlider(name='Number of Items', start=0, end=dfGroupProd['Item'].unique().size, value=dfGroupProd['Item'].unique().size)\n",
    "\n",
    "filtered = interactiveGroupProd[(interactiveGroupProd['Year']>=selectProdYear.value_start) & (interactiveGroupProd['Year']<=selectProdYear.value_end)] \n",
    "filtered2 = filtered.head(sliderProdValue.value)"
   ]
  },
  {
   "cell_type": "code",
   "execution_count": 12,
   "metadata": {},
   "outputs": [],
   "source": [
    "# create two bar plots, add interactivity to view top items produced\n",
    "widgetGroupProduction = filtered2.groupby(['Group', 'Value', 'Year']).sum().reset_index().hvplot(x='Group', y='Value', kind='barh', title='Amount Produced Per Food Group (2015 - 2019)', \n",
    "    min_height=1500, min_width=1500)\n",
    "widgetItemProduction = filtered2.groupby(['Item', 'Value', 'Year']).sum().reset_index().hvplot(x='Item', y='Value', kind='barh', title='Amount Produced per Item (2015 - 2019)',\n",
    "    min_height=1500, min_width=1500)\n",
    "widgetUnitProduction = filtered2.groupby(['Unit', 'Value', 'Year']).sum().reset_index().hvplot(x='Unit', y='Value', kind='barh', title='Amount Produced per Unit of Measure', \n",
    "    min_height=1500, min_width=1500)\n",
    "tabProd = pn.Tabs(min_height=1500, min_width=1500, dynamic=True)\n",
    "widgetboxProd = pn.WidgetBox(selectProdYear, sliderProdValue, margin=5)\n",
    "tabProd.extend([\n",
    "    ('Group', widgetGroupProduction.holoviews()),\n",
    "    ('Item', widgetItemProduction.holoviews()),\n",
    "    ('Unit', widgetUnitProduction.holoviews())])"
   ]
  },
  {
   "cell_type": "code",
   "execution_count": 13,
   "metadata": {},
   "outputs": [],
   "source": [
    "panelProdTitle = pn.panel('## Candian Food Production (2015-2019)')\n",
    "panelProd = pn.Column(panelProdTitle, tabProd)"
   ]
  },
  {
   "cell_type": "markdown",
   "metadata": {},
   "source": [
    "## How balanced is the Canadian diet? What parts of the diet could be improved?"
   ]
  },
  {
   "cell_type": "code",
   "execution_count": 37,
   "metadata": {},
   "outputs": [],
   "source": [
    "interactiveServing = dfCanadianIntake.interactive(sizing_mode='stretch_both')\n",
    "selectServingGroup = pn.widgets.Select(name='Food Group', options=[i for i in dfCanadianIntake.Group.unique()], size=6)\n",
    "filterServingGroup = interactiveServing[interactiveServing['Group'] == selectServingGroup.value]"
   ]
  },
  {
   "cell_type": "code",
   "execution_count": 40,
   "metadata": {},
   "outputs": [],
   "source": [
    "widgetAge = filterServingGroup.groupby(['Age Range', 'serving', 'year', 'Group']).sum().reset_index().hvplot(\n",
    "    kind='barh', x='Age Range', y='serving', title='Age vs Serving', min_height=1500, min_width=1500, colorbar=True, c='year', cmap=cc.glasbey_light)\n",
    "widgetEducation = filterServingGroup.groupby(['Education Level', 'serving', 'year', 'Group']).sum().reset_index().hvplot(\n",
    "    kind='barh', x='Education Level', y='serving', title='Eduction vs Serving', min_height=1500, min_width=1500, colorbar=True, c='year', cmap=cc.glasbey_light)\n",
    "widgetLocality = filterServingGroup.groupby(['Locality', 'serving', 'year', 'Group']).sum().reset_index().hvplot(\n",
    "    kind='bar', x='Locality', y='serving', title='Locality vs Serving', min_height=1500, min_width=1500, colorbar=True, c='year', cmap=cc.glasbey_light)\n",
    "widgetGender = filterServingGroup.groupby(['Gender', 'serving', 'year', 'Group']).sum().reset_index().hvplot(\n",
    "    kind='bar', x='Gender', y='serving', title='Gender vs Serving', min_height=1500, min_width=1500, colorbar=True, c='year', cmap=cc.glasbey_light)\n",
    "\n",
    "tabServing = pn.Tabs(min_height=1500, min_width=1500, dynamic=True)\n",
    "tabServing.extend([\n",
    "    ('Age', widgetAge.holoviews()),\n",
    "    ('Education', widgetEducation.holoviews()),\n",
    "    ('Locality', widgetLocality.holoviews()),\n",
    "    ('Gender', widgetGender.holoviews()),\n",
    "])"
   ]
  },
  {
   "cell_type": "code",
   "execution_count": 44,
   "metadata": {},
   "outputs": [
    {
     "data": {
      "application/vnd.jupyter.widget-view+json": {
       "model_id": "c360c213ef2e41d1a5285f1b7ce9be19",
       "version_major": 2,
       "version_minor": 0
      },
      "text/plain": [
       "BokehModel(combine_events=True, render_bundle={'docs_json': {'6fdb6401-2ec6-4e31-a2b8-29bd63c6abc2': {'defs': …"
      ]
     },
     "metadata": {},
     "output_type": "display_data"
    },
    {
     "data": {
      "text/html": [
       "<div style=\"display: none\"></div>"
      ],
      "text/plain": [
       "Column\n",
       "    [0] Markdown(str)\n",
       "    [1] Select(name='Food Group', options=['Fruits Group', ...], size=6, value='Fruits Group')\n",
       "    [2] Tabs\n",
       "        [0] HoloViews(DynamicMap, name='Age')\n",
       "        [1] HoloViews(DynamicMap, name='Education')\n",
       "        [2] HoloViews(DynamicMap, name='Locality')\n",
       "        [3] HoloViews(DynamicMap, name='Gender')\n",
       "    [3] Row\n",
       "        [0] HoloViews(DynamicMap)\n",
       "        [1] Column\n",
       "            [0] WidgetBox\n",
       "                [0] Select(margin=(20, 20, 20, 20), name='Group', options=['Beans, Eggs, ...], value='Beans, Eggs, ..., width=250)\n",
       "            [1] VSpacer()"
      ]
     },
     "execution_count": 44,
     "metadata": {},
     "output_type": "execute_result"
    }
   ],
   "source": [
    "widgetServings = dfPyramidPreds.hvplot(x=\"year\", groupby='Group')\n",
    "titleServing = pn.panel('''\n",
    "---\n",
    "## Canadian serving intake per food group (1990 - 2018)''')\n",
    "panelServing = pn.Column(titleServing, selectServingGroup, tabServing, widgetServings)"
   ]
  },
  {
   "cell_type": "markdown",
   "metadata": {},
   "source": [
    "## Food Availability"
   ]
  },
  {
   "cell_type": "code",
   "execution_count": 29,
   "metadata": {},
   "outputs": [],
   "source": [
    "interactiveAvail = dfAvail.interactive(sizing_mode='stretch_both')\n",
    "selectAvailSupply = pn.widgets.Select(name='Supply/Disposition', options=[i for i in dfAvail['Supply and disposition'].unique()], size=10)\n",
    "filterAvailSupply = interactiveAvail[interactiveAvail['Supply and disposition'] == selectAvailSupply.value]"
   ]
  },
  {
   "cell_type": "code",
   "execution_count": 36,
   "metadata": {},
   "outputs": [],
   "source": [
    "widgetAvailGroup = filterAvailSupply.groupby(['Group', 'VALUE', 'Supply and disposition']).sum().reset_index()\n",
    "widgetAvailGroup = widgetAvailGroup.hvplot(kind='barh', x='Group', y='VALUE', responsive=True, min_height=1500, min_width=1500)\n",
    "widgetAvailDate = filterAvailSupply.hvplot(kind='box', x='Group', y='VALUE', min_height=1500, min_width=1500, responsive=True, c='REF_DATE', cmap=cc.glasbey_dark)\n",
    "widgetAvailSupply = dfAvail.groupby(['Supply and disposition', 'VALUE']).sum().reset_index()\n",
    "widgetAvailSupply = widgetAvailSupply.hvplot(kind='barh', x='Supply and disposition', y='VALUE', responsive=True, min_height=1500, min_width=1500)\n",
    "\n",
    "lsAvail = hv.link_selections.instance(unselected_alpha=0.02)\n",
    "linkAvailWidgets = (lsAvail(widgetAvailGroup) + lsAvail(widgetAvailDate) + lsAvail(widgetAvailSupply)).cols(1).opts(\n",
    "    hv.opts.Histogram(tools=['box_select', 'lasso_select', 'tap', 'hover']),\n",
    "    hv.opts.Layout(shared_datasource=True, toolbar='left'))\n",
    "\n",
    "tableCommodity = filterAvailSupply.pipe(lsAvail.filter, selection_expr=lsAvail.param.selection_expr)[['Commodity', 'Group', 'REF_DATE', 'VALUE']].groupby('Commodity').sum().reset_index().pipe(\n",
    "    pn.widgets.Tabulator, pagination='remote', page_size=15)\n",
    "panelAvailTitle = pn.panel('''\n",
    "---\n",
    "## Total Supply and disposition of Food in Canada (1990 - 2020)''')\n",
    "panelAvail = pn.Column(panelAvailTitle, selectAvailSupply, linkAvailWidgets, tableCommodity)"
   ]
  },
  {
   "cell_type": "code",
   "execution_count": null,
   "metadata": {},
   "outputs": [],
   "source": [
    "pn.state.template.sidebar_width = 350\n",
    "pn.state.template.title = 'DAAN Capstone Project Q1'\n",
    "panelQ1 = pn.Column(\n",
    "    panelProd, panelServing, panelAvail\n",
    ")"
   ]
  },
  {
   "cell_type": "code",
   "execution_count": null,
   "metadata": {},
   "outputs": [],
   "source": [
    "(widgetboxProd).servable(area='sidebar')"
   ]
  },
  {
   "cell_type": "code",
   "execution_count": null,
   "metadata": {},
   "outputs": [],
   "source": [
    "panelQ1.servable(title=\"# How much of Canada’s population can be fed on food grown nationally? Which countries should we work with to fill gaps in the food supply?​\")"
   ]
  }
 ],
 "metadata": {
  "interpreter": {
   "hash": "d913e3b7d71d98b901f0a7b4469557014f612ac8de5c4a20d183446f21f7d84b"
  },
  "kernelspec": {
   "display_name": "Python 3.8.8 64-bit ('base': conda)",
   "name": "python388jvsc74a57bd0dd0a3e20b39008ad09b0dbcaed9d2433f62832143fbffcce233493464d5843b2"
  },
  "language_info": {
   "codemirror_mode": {
    "name": "ipython",
    "version": 3
   },
   "file_extension": ".py",
   "mimetype": "text/x-python",
   "name": "python",
   "nbconvert_exporter": "python",
   "pygments_lexer": "ipython3",
   "version": "3.8.8"
  },
  "metadata": {
   "interpreter": {
    "hash": "dd0a3e20b39008ad09b0dbcaed9d2433f62832143fbffcce233493464d5843b2"
   }
  }
 },
 "nbformat": 4,
 "nbformat_minor": 2
}