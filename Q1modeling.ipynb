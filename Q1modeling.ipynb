{
 "cells": [
  {
   "cell_type": "code",
   "execution_count": 14,
   "source": [
    "# import visual libraries and read data\r\n",
    "import panel as pn\r\n",
    "pn.extension('tabulator', template='material')\r\n",
    "import pandas as pd\r\n",
    "import hvplot.pandas\r\n",
    "import holoviews as hv\r\n",
    "import colorcet as cc\r\n",
    "\r\n",
    "dfGroupProd = pd.read_pickle('Q1data/GroupProduction.pkl')\r\n",
    "Production = pd.read_pickle('Q1data/CanadaProduction.pkl')\r\n",
    "dfPyramidPreds = pd.read_csv('Q1data/predictions.csv')\r\n",
    "dfCanadianIntake = pd.read_pickle('Q1data/dfCanadianIntake.pkl')\r\n",
    "dfAvail = pd.read_pickle('Q1data/dfAvail.pkl')\r\n",
    "dfInnov = pd.read_excel(\"Q1data/Innovation Funding.xlsx\")\r\n"
   ],
   "outputs": [],
   "metadata": {}
  },
  {
   "cell_type": "markdown",
   "source": [
    "## Canadian Diet"
   ],
   "metadata": {}
  },
  {
   "cell_type": "code",
   "execution_count": 15,
   "source": [
    "widgetAge = dfCanadianIntake.hvplot(kind='box', by='Age Range', y='serving', title='Age vs Serving', hover_cols=['Group'], min_height=1500, min_width=1500, c='serving', cmap=cc.CET_L12, invert=True, legend=False)\r\n",
    "widgetEducation = dfCanadianIntake.hvplot(kind='box', by='Education Level', y='serving', title='Education vs Serving', hover_cols=['Group'], min_height=1500, min_width=1500, c='serving', cmap=cc.CET_L12, invert=True, legend=False)\r\n",
    "widgetLocality = dfCanadianIntake.hvplot(kind='box', by='Locality', y='serving', title='Locality vs Serving', hover_cols=['Group'], min_height=1500, min_width=1500, c='serving', cmap=cc.CET_L12, invert=True, legend=False)\r\n",
    "widgetGender = dfCanadianIntake.hvplot(kind='box', by='Gender', y='serving', title='Gender vs Serving', hover_cols=['Group'], min_height=1500, min_width=1500, c='serving', cmap=cc.CET_L12, invert=True, legend=False)\r\n",
    "widgetServings = dfPyramidPreds.hvplot(x=\"year\", groupby='Group', height=450, width=800)\r\n",
    "\r\n",
    "lsDiet = hv.link_selections.instance()\r\n",
    "linkDiet = (lsDiet(widgetAge) + lsDiet(widgetEducation) + lsDiet(widgetLocality) + lsDiet(widgetGender)).cols(2)\r\n",
    "\r\n",
    "tabServing = pn.Tabs(dynamic=True)\r\n",
    "tabServing.extend([\r\n",
    "    ('Canadian Diet', linkDiet),\r\n",
    "    ('Diet Predictions', pn.Row(pn.pane.PNG('Q1data/diet effect chart.png'), widgetServings))])"
   ],
   "outputs": [],
   "metadata": {}
  },
  {
   "cell_type": "code",
   "execution_count": 16,
   "source": [
    "titleServing = pn.panel('''\r\n",
    "---\r\n",
    "## Canadian serving intake per food group (1990 - 2018)''')\r\n",
    "panelServing = pn.Column(titleServing, tabServing)"
   ],
   "outputs": [],
   "metadata": {}
  },
  {
   "cell_type": "markdown",
   "source": [
    "## Canadian Production"
   ],
   "metadata": {}
  },
  {
   "cell_type": "code",
   "execution_count": 17,
   "source": [
    "# create two bar plots, add interactivity to view top items produced\r\n",
    "widgetGroupProduction = dfGroupProd.hvplot(\r\n",
    "    by='Group', y='Value', kind='box', title='Amount Produced Per Food Group (2015 - 2019)', responsive=True, height=450, width=800, invert=True, legend=False)\r\n",
    "widgetItemProduction = dfGroupProd.head(60).hvplot(\r\n",
    "    by='Item', y='Value', kind='box', title='Amount Produced per Item (2015 - 2019)', responsive=True, height=450, width=800, invert=True, legend=False)\r\n",
    "widgetUnitProduction = dfGroupProd.hvplot(\r\n",
    "    by='Unit', y='Value', kind='box', title='Amount Produced per Unit of Measure', responsive=True, height=450, width=800, invert=True, legend=False)\r\n",
    "\r\n",
    "lsProd = hv.link_selections.instance()\r\n",
    "linkProd = (lsProd(widgetGroupProduction) + lsProd(widgetItemProduction) + lsProd(widgetUnitProduction)).cols(2)\r\n",
    "\r\n",
    "panelProdTitle = pn.panel('''\r\n",
    "---\r\n",
    "## Candian Food Production (2015-2019)''')\r\n",
    "panelProd = pn.Column(panelProdTitle, linkProd)"
   ],
   "outputs": [],
   "metadata": {}
  },
  {
   "cell_type": "markdown",
   "source": [
    "## Imports and Exports"
   ],
   "metadata": {}
  },
  {
   "cell_type": "code",
   "execution_count": 18,
   "source": [
    "# ETL using SQL and visualization using PowerBI. Import image into web panel.\r\n",
    "tabTrade = pn.Tabs()\r\n",
    "tabTrade.extend([\r\n",
    "    ('Exports', pn.pane.JPG('Q1data/ExportsMap.jpg')),\r\n",
    "    ('Imports', pn.pane.JPG('Q1data/ImportsMap.jpg'))])\r\n",
    "\r\n",
    "panelTradeTitle = pn.panel('''\r\n",
    "---\r\n",
    "## Canadian Trade Partners Imports/Exports (2017 - 2021)''')\r\n",
    "panelTrade = pn.Column(panelTradeTitle, tabTrade)"
   ],
   "outputs": [],
   "metadata": {}
  },
  {
   "cell_type": "markdown",
   "source": [
    "## Food Availability"
   ],
   "metadata": {}
  },
  {
   "cell_type": "code",
   "execution_count": 19,
   "source": [
    "widgetAvailDate = dfAvail.groupby(['Supply and disposition', 'REF_DATE', 'VALUE']).sum().reset_index()\r\n",
    "widgetAvailDate = widgetAvailDate.hvplot(kind='barh', x='REF_DATE', y='VALUE', groupby='Supply and disposition', min_height=800, min_width=800, responsive=True, invert=True)\r\n",
    "widgetAvailSupply = dfAvail.groupby(['Supply and disposition', 'VALUE']).sum().reset_index().hvplot(kind='barh', x='Supply and disposition', y='VALUE', responsive=True, min_height=800, min_width=800, invert=True)\r\n",
    "widgetAvailGroup = dfAvail.groupby(['Group', 'VALUE', 'Supply and disposition']).sum().reset_index()\r\n",
    "widgetAvailGroup = widgetAvailGroup.hvplot(kind='barh', x='Group', y='VALUE', groupby='Supply and disposition', responsive=True, min_height=800, min_width=800)\r\n",
    "\r\n",
    "tableCommodity = dfAvail[['Commodity', 'Group', 'Supply and disposition', 'VALUE']].groupby(['Commodity', 'Group', 'Supply and disposition']).sum().reset_index().pipe(\r\n",
    "    pn.widgets.Tabulator, pagination='remote', page_size=15)\r\n",
    "\r\n",
    "lsAvail = hv.link_selections.instance()\r\n",
    "linkAvail = (lsAvail(widgetAvailDate) + lsAvail(widgetAvailGroup)).cols(2)\r\n",
    "\r\n",
    "tabAvail = pn.Tabs(dynamic=True)\r\n",
    "tabAvail.extend([\r\n",
    "    ('Supply and Disposition', widgetAvailSupply),\r\n",
    "    ('Date', linkAvail),\r\n",
    "    ('Commodity Table', tableCommodity)])\r\n",
    "\r\n",
    "panelAvailTitle = pn.panel('''\r\n",
    "---\r\n",
    "## Total Supply and disposition of Food in Canada (1990 - 2020)''')\r\n",
    "panelAvail = pn.Column(panelAvailTitle, tabAvail)"
   ],
   "outputs": [],
   "metadata": {}
  },
  {
   "cell_type": "markdown",
   "source": [
    "## COVID Effects"
   ],
   "metadata": {}
  },
  {
   "cell_type": "code",
   "execution_count": 20,
   "source": [
    "panelCOVID = pn.Column(pn.pane.PNG(r\"C:\\Users\\proud\\DAAN Capstone Proj\\Q1data\\CPI Capstone project.png\"), pn.pane.PNG(r\"C:\\Users\\proud\\DAAN Capstone Proj\\Q1data\\GDP capstone project.png\"))"
   ],
   "outputs": [],
   "metadata": {}
  },
  {
   "cell_type": "markdown",
   "source": [
    "## Innovation"
   ],
   "metadata": {}
  },
  {
   "cell_type": "code",
   "execution_count": 21,
   "source": [
    "widgetInnovAIFund = dfInnov.hvplot(kind='hist', y='AI Funding', title='AI Funding', responsive=True, min_height=600, min_width=600)\r\n",
    "widgetInnovBudget = dfInnov.hvplot(kind='hist', y='Total budget', title='Total Budget', responsive=True, min_height=600, min_width=600)\r\n",
    "\r\n",
    "lsInnov = hv.link_selections.instance()\r\n",
    "linkInnov = (lsInnov(widgetInnovBudget) + lsInnov(widgetInnovAIFund))\r\n",
    "\r\n",
    "tabInnov = pn.Tabs(dynamic=True)\r\n",
    "tabInnov.extend([\r\n",
    "    ('Innovation Talk', pn.pane.PNG('Q1data/innovWordCould.png')),\r\n",
    "    ('Innovation Trends', linkInnov),\r\n",
    "    ('Innovation Detail', pn.pane.PNG(\"Q1data/innovDescWordCloud.png\"))])\r\n",
    "titleInnov = pn.panel('''\r\n",
    "---\r\n",
    "## Canadian Innovation Projects''')\r\n",
    "panelInnov = pn.Column(titleInnov, tabInnov)"
   ],
   "outputs": [],
   "metadata": {}
  },
  {
   "cell_type": "markdown",
   "source": [
    "## Final Dashboard"
   ],
   "metadata": {}
  },
  {
   "cell_type": "code",
   "execution_count": 22,
   "source": [
    "pn.state.template.sidebar_width = 350\r\n",
    "pn.state.template.title = 'DAAN Capstone Project'\r\n",
    "tabQ1 = pn.Tabs(dynamic=True)\r\n",
    "tabQ1.extend([ \r\n",
    "    ('Canadian Diet', panelServing), \r\n",
    "    ('Canadian Production', panelProd)])\r\n",
    "tabQ2 = pn.Tabs(dynamic=True)\r\n",
    "tabQ2.extend([\r\n",
    "    ('Canadian Trade Partners', panelTrade),\r\n",
    "    ('Food Supply and Disposition', panelAvail)])\r\n",
    "tabProj = pn.Tabs(dynamic=True)\r\n",
    "tabProj.extend([\r\n",
    "    ('Question 1', tabQ1),\r\n",
    "    ('Question 2', tabQ2),\r\n",
    "    ('Question 4', panelCOVID),\r\n",
    "    ('Question 6', tabInnov)])\r\n",
    "panelProject = pn.Column(tabProj)"
   ],
   "outputs": [],
   "metadata": {}
  },
  {
   "cell_type": "code",
   "execution_count": 23,
   "source": [
    "panelProject.servable(title=\"# How much of Canada’s population can be fed on food grown nationally? How productive is Canada's Food Industry?​\")"
   ],
   "outputs": [
    {
     "output_type": "display_data",
     "data": {
      "application/vnd.jupyter.widget-view+json": {
       "version_major": 2,
       "version_minor": 0,
       "model_id": "0383413c71db40c49f530d7caf8e89ff"
      },
      "text/plain": [
       "BokehModel(combine_events=True, render_bundle={'docs_json': {'07076677-1afd-4ebc-8e2d-bc615e547c6b': {'defs': …"
      ]
     },
     "metadata": {}
    },
    {
     "output_type": "execute_result",
     "data": {
      "text/html": [
       "<div style=\"display: none\"></div>"
      ],
      "text/plain": [
       "Column\n",
       "    [0] Tabs(dynamic=True)\n",
       "        [0] Tabs(dynamic=True)\n",
       "            [0] Column\n",
       "                [0] Markdown(str)\n",
       "                [1] Tabs(dynamic=True)\n",
       "                    [0] HoloViews(Layout, name='Canadian Diet')\n",
       "                    [1] Row\n",
       "                        [0] PNG(str)\n",
       "                        [1] Row\n",
       "                            [0] HoloViews(DynamicMap)\n",
       "                            [1] Column\n",
       "                                [0] WidgetBox\n",
       "                                    [0] Select(margin=(20, 20, 20, 20), name='Group', options=['Beans, Eggs, ...], value='Beans, Eggs, ..., width=250)\n",
       "                                [1] VSpacer()\n",
       "            [1] Column\n",
       "                [0] Markdown(str)\n",
       "                [1] HoloViews(Layout)\n",
       "        [1] Tabs(dynamic=True)\n",
       "            [0] Column\n",
       "                [0] Markdown(str)\n",
       "                [1] Tabs\n",
       "                    [0] JPG(str)\n",
       "                    [1] JPG(str)\n",
       "            [1] Column\n",
       "                [0] Markdown(str)\n",
       "                [1] Tabs(dynamic=True)\n",
       "                    [0] HoloViews(Bars, name='Supply and Disposition')\n",
       "                    [1] Row(name='Date')\n",
       "                        [0] HoloViews(Layout, name='Date')\n",
       "                        [1] Column\n",
       "                            [0] WidgetBox\n",
       "                                [0] Select(margin=(20, 20, 20, 20), name='Supply and disposition', options=['Beginning stocks', ...], value='Beginning stocks', width=250)\n",
       "                            [1] VSpacer()\n",
       "                    [2] Tabulator(page_size=15, pagination='remote', value=        Commodity         ...)\n",
       "        [2] Column\n",
       "            [0] PNG(str)\n",
       "            [1] PNG(str)\n",
       "        [3] Tabs(dynamic=True)\n",
       "            [0] PNG(str)\n",
       "            [1] HoloViews(Layout, name='Innovation Trends')\n",
       "            [2] PNG(str)"
      ]
     },
     "metadata": {},
     "execution_count": 23
    }
   ],
   "metadata": {}
  },
  {
   "cell_type": "code",
   "execution_count": null,
   "source": [],
   "outputs": [],
   "metadata": {}
  }
 ],
 "metadata": {
  "interpreter": {
   "hash": "d913e3b7d71d98b901f0a7b4469557014f612ac8de5c4a20d183446f21f7d84b"
  },
  "kernelspec": {
   "name": "python3",
   "display_name": "Python 3.8.11 64-bit ('base': conda)"
  },
  "language_info": {
   "codemirror_mode": {
    "name": "ipython",
    "version": 3
   },
   "file_extension": ".py",
   "mimetype": "text/x-python",
   "name": "python",
   "nbconvert_exporter": "python",
   "pygments_lexer": "ipython3",
   "version": "3.8.11"
  },
  "metadata": {
   "interpreter": {
    "hash": "dd0a3e20b39008ad09b0dbcaed9d2433f62832143fbffcce233493464d5843b2"
   }
  }
 },
 "nbformat": 4,
 "nbformat_minor": 2
}