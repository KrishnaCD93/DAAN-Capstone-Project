{
 "cells": [
  {
   "cell_type": "code",
   "execution_count": 1,
   "metadata": {},
   "outputs": [],
   "source": [
    "import onedrive\r\n",
    "import pandas as pd\r\n",
    "\r\n",
    "Fruits = onedrive.OneDriveDataset(\"https://1drv.ms/u/s!AvCFI7fzKgPmhPgX2ISEEtPDUQPQLQ?e=u1lxao\", name=\"Fruits Group\")\r\n",
    "NSVeg = onedrive.OneDriveDataset(\"https://1drv.ms/u/s!AvCFI7fzKgPmhPgYVP0cqr769sZpIA?e=QHbYcr\", name=\"Vegetables Group\")\r\n",
    "Potatoes = onedrive.OneDriveDataset(\"https://1drv.ms/u/s!AvCFI7fzKgPmhPgcumMfzxhQdwDcWA?e=CdkUNF\", name=\"Vegetables Group\")\r\n",
    "StarchyVeg = onedrive.OneDriveDataset(\"https://1drv.ms/u/s!AvCFI7fzKgPmhPge52OmuiBxOqwbTQ?e=7ONDlx\", name=\"Vegetables Group\")\r\n",
    "BeanLegume = onedrive.OneDriveDataset(\"https://1drv.ms/u/s!AvCFI7fzKgPmhPgfWilAsD5HvgRopA?e=gQIPx4\", name=\"Beans, Eggs, Meats, and Nuts Group\")\r\n",
    "NutsSeeds = onedrive.OneDriveDataset(\"https://1drv.ms/u/s!AvCFI7fzKgPmhPgglQeMRUDh_1uoXQ?e=jri8gM\", name=\"Beans, Eggs, Meats, and Nuts Group\")\r\n",
    "RefinedGrains = onedrive.OneDriveDataset(\"https://1drv.ms/u/s!AvCFI7fzKgPmhPgjTm7G5rmhWnX0IQ?e=Yy6hqh\", name=\"Grains and Wheat Group\")\r\n",
    "WholeGrains = onedrive.OneDriveDataset(\"https://1drv.ms/u/s!AvCFI7fzKgPmhPgkQZnWmkkI7cbbOw?e=ab2NF5\", name=\"Grains and Wheat Group\")\r\n",
    "ProcessedMeat = onedrive.OneDriveDataset(\"https://1drv.ms/u/s!AvCFI7fzKgPmhPglVDt3nryNyqWpsA?e=qydSaf\", name=\"Beans, Eggs, Meats, and Nuts Group\")\r\n",
    "Seafoods = onedrive.OneDriveDataset(\"https://1drv.ms/u/s!AvCFI7fzKgPmhPgmn-qkBSvvHFtXjA?e=7AdRaR\", name=\"Beans, Eggs, Meats, and Nuts Group\")\r\n",
    "Eggs = onedrive.OneDriveDataset(\"https://1drv.ms/u/s!AvCFI7fzKgPmhPgnUGnlDgWijXW0NQ?e=eyVioN\", name=\"Beans, Eggs, Meats, and Nuts Group\")\r\n",
    "Cheese = onedrive.OneDriveDataset(\"https://1drv.ms/u/s!AvCFI7fzKgPmhPgoEeWkJJwwFpAjjg?e=8bSxrS\", name=\"Cheese, Milk, and Yoghurt Group\")\r\n",
    "Yoghurt = onedrive.OneDriveDataset(\"https://1drv.ms/u/s!AvCFI7fzKgPmhPgqR4Gt0tjO6voKqQ?e=uUfFIn\", name=\"Cheese, Milk, and Yoghurt Group\")\r\n",
    "Milk = onedrive.OneDriveDataset(\"https://1drv.ms/u/s!AvCFI7fzKgPmhPheYrsjySxpuCBKQQ?e=LapjAI\", name=\"Cheese, Milk, and Yoghurt Group\")"
   ]
  },
  {
   "cell_type": "code",
   "execution_count": 2,
   "metadata": {},
   "outputs": [
    {
     "ename": "KeyboardInterrupt",
     "evalue": "",
     "output_type": "error",
     "traceback": [
      "\u001b[0;31m---------------------------------------------------------------------------\u001b[0m",
      "\u001b[0;31mKeyboardInterrupt\u001b[0m                         Traceback (most recent call last)",
      "\u001b[0;32m<ipython-input-2-089e73798e03>\u001b[0m in \u001b[0;36m<module>\u001b[0;34m\u001b[0m\n\u001b[1;32m      1\u001b[0m \u001b[0mdfFruits\u001b[0m \u001b[0;34m=\u001b[0m \u001b[0mFruits\u001b[0m\u001b[0;34m.\u001b[0m\u001b[0monedrive_directdownload\u001b[0m\u001b[0;34m(\u001b[0m\u001b[0;34m)\u001b[0m\u001b[0;34m\u001b[0m\u001b[0;34m\u001b[0m\u001b[0m\n\u001b[0;32m----> 2\u001b[0;31m \u001b[0mdfNonStarchVegetables\u001b[0m \u001b[0;34m=\u001b[0m \u001b[0mNSVeg\u001b[0m\u001b[0;34m.\u001b[0m\u001b[0monedrive_directdownload\u001b[0m\u001b[0;34m(\u001b[0m\u001b[0;34m)\u001b[0m\u001b[0;34m\u001b[0m\u001b[0;34m\u001b[0m\u001b[0m\n\u001b[0m\u001b[1;32m      3\u001b[0m \u001b[0mdfPotatoes\u001b[0m \u001b[0;34m=\u001b[0m \u001b[0mPotatoes\u001b[0m\u001b[0;34m.\u001b[0m\u001b[0monedrive_directdownload\u001b[0m\u001b[0;34m(\u001b[0m\u001b[0;34m)\u001b[0m\u001b[0;34m\u001b[0m\u001b[0;34m\u001b[0m\u001b[0m\n\u001b[1;32m      4\u001b[0m \u001b[0mdfStarchyVeg\u001b[0m \u001b[0;34m=\u001b[0m \u001b[0mStarchyVeg\u001b[0m\u001b[0;34m.\u001b[0m\u001b[0monedrive_directdownload\u001b[0m\u001b[0;34m(\u001b[0m\u001b[0;34m)\u001b[0m\u001b[0;34m\u001b[0m\u001b[0;34m\u001b[0m\u001b[0m\n\u001b[1;32m      5\u001b[0m \u001b[0mdfBeanLegume\u001b[0m \u001b[0;34m=\u001b[0m \u001b[0mBeanLegume\u001b[0m\u001b[0;34m.\u001b[0m\u001b[0monedrive_directdownload\u001b[0m\u001b[0;34m(\u001b[0m\u001b[0;34m)\u001b[0m\u001b[0;34m\u001b[0m\u001b[0;34m\u001b[0m\u001b[0m\n",
      "\u001b[0;32m~/DAAN-Capstone-Project/onedrive.py\u001b[0m in \u001b[0;36monedrive_directdownload\u001b[0;34m(self)\u001b[0m\n\u001b[1;32m     24\u001b[0m                 \u001b[0mdf\u001b[0m \u001b[0;34m=\u001b[0m \u001b[0mpd\u001b[0m\u001b[0;34m.\u001b[0m\u001b[0mread_excel\u001b[0m\u001b[0;34m(\u001b[0m\u001b[0mresultUrl\u001b[0m\u001b[0;34m,\u001b[0m \u001b[0msheet_name\u001b[0m\u001b[0;34m=\u001b[0m\u001b[0mself\u001b[0m\u001b[0;34m.\u001b[0m\u001b[0mcolumn\u001b[0m\u001b[0;34m)\u001b[0m\u001b[0;34m\u001b[0m\u001b[0;34m\u001b[0m\u001b[0m\n\u001b[1;32m     25\u001b[0m         \u001b[0;32melse\u001b[0m\u001b[0;34m:\u001b[0m\u001b[0;34m\u001b[0m\u001b[0;34m\u001b[0m\u001b[0m\n\u001b[0;32m---> 26\u001b[0;31m             \u001b[0mdf\u001b[0m \u001b[0;34m=\u001b[0m \u001b[0mpd\u001b[0m\u001b[0;34m.\u001b[0m\u001b[0mread_csv\u001b[0m\u001b[0;34m(\u001b[0m\u001b[0mresultUrl\u001b[0m\u001b[0;34m)\u001b[0m\u001b[0;34m\u001b[0m\u001b[0;34m\u001b[0m\u001b[0m\n\u001b[0m\u001b[1;32m     27\u001b[0m         \u001b[0mself\u001b[0m\u001b[0;34m.\u001b[0m\u001b[0mdf\u001b[0m \u001b[0;34m=\u001b[0m \u001b[0mdf\u001b[0m\u001b[0;34m\u001b[0m\u001b[0;34m\u001b[0m\u001b[0m\n\u001b[1;32m     28\u001b[0m         \u001b[0;32mreturn\u001b[0m \u001b[0mdf\u001b[0m\u001b[0;34m\u001b[0m\u001b[0;34m\u001b[0m\u001b[0m\n",
      "\u001b[0;32m~/opt/anaconda3/lib/python3.8/site-packages/pandas/io/parsers.py\u001b[0m in \u001b[0;36mparser_f\u001b[0;34m(filepath_or_buffer, sep, delimiter, header, names, index_col, usecols, squeeze, prefix, mangle_dupe_cols, dtype, engine, converters, true_values, false_values, skipinitialspace, skiprows, skipfooter, nrows, na_values, keep_default_na, na_filter, verbose, skip_blank_lines, parse_dates, infer_datetime_format, keep_date_col, date_parser, dayfirst, cache_dates, iterator, chunksize, compression, thousands, decimal, lineterminator, quotechar, quoting, doublequote, escapechar, comment, encoding, dialect, error_bad_lines, warn_bad_lines, delim_whitespace, low_memory, memory_map, float_precision)\u001b[0m\n\u001b[1;32m    674\u001b[0m         )\n\u001b[1;32m    675\u001b[0m \u001b[0;34m\u001b[0m\u001b[0m\n\u001b[0;32m--> 676\u001b[0;31m         \u001b[0;32mreturn\u001b[0m \u001b[0m_read\u001b[0m\u001b[0;34m(\u001b[0m\u001b[0mfilepath_or_buffer\u001b[0m\u001b[0;34m,\u001b[0m \u001b[0mkwds\u001b[0m\u001b[0;34m)\u001b[0m\u001b[0;34m\u001b[0m\u001b[0;34m\u001b[0m\u001b[0m\n\u001b[0m\u001b[1;32m    677\u001b[0m \u001b[0;34m\u001b[0m\u001b[0m\n\u001b[1;32m    678\u001b[0m     \u001b[0mparser_f\u001b[0m\u001b[0;34m.\u001b[0m\u001b[0m__name__\u001b[0m \u001b[0;34m=\u001b[0m \u001b[0mname\u001b[0m\u001b[0;34m\u001b[0m\u001b[0;34m\u001b[0m\u001b[0m\n",
      "\u001b[0;32m~/opt/anaconda3/lib/python3.8/site-packages/pandas/io/parsers.py\u001b[0m in \u001b[0;36m_read\u001b[0;34m(filepath_or_buffer, kwds)\u001b[0m\n\u001b[1;32m    428\u001b[0m     \u001b[0;31m# though mypy handling of conditional imports is difficult.\u001b[0m\u001b[0;34m\u001b[0m\u001b[0;34m\u001b[0m\u001b[0;34m\u001b[0m\u001b[0m\n\u001b[1;32m    429\u001b[0m     \u001b[0;31m# See https://github.com/python/mypy/issues/1297\u001b[0m\u001b[0;34m\u001b[0m\u001b[0;34m\u001b[0m\u001b[0;34m\u001b[0m\u001b[0m\n\u001b[0;32m--> 430\u001b[0;31m     fp_or_buf, _, compression, should_close = get_filepath_or_buffer(\n\u001b[0m\u001b[1;32m    431\u001b[0m         \u001b[0mfilepath_or_buffer\u001b[0m\u001b[0;34m,\u001b[0m \u001b[0mencoding\u001b[0m\u001b[0;34m,\u001b[0m \u001b[0mcompression\u001b[0m\u001b[0;34m\u001b[0m\u001b[0;34m\u001b[0m\u001b[0m\n\u001b[1;32m    432\u001b[0m     )\n",
      "\u001b[0;32m~/opt/anaconda3/lib/python3.8/site-packages/pandas/io/common.py\u001b[0m in \u001b[0;36mget_filepath_or_buffer\u001b[0;34m(filepath_or_buffer, encoding, compression, mode)\u001b[0m\n\u001b[1;32m    175\u001b[0m             \u001b[0;31m# Override compression based on Content-Encoding header\u001b[0m\u001b[0;34m\u001b[0m\u001b[0;34m\u001b[0m\u001b[0;34m\u001b[0m\u001b[0m\n\u001b[1;32m    176\u001b[0m             \u001b[0mcompression\u001b[0m \u001b[0;34m=\u001b[0m \u001b[0;34m\"gzip\"\u001b[0m\u001b[0;34m\u001b[0m\u001b[0;34m\u001b[0m\u001b[0m\n\u001b[0;32m--> 177\u001b[0;31m         \u001b[0mreader\u001b[0m \u001b[0;34m=\u001b[0m \u001b[0mBytesIO\u001b[0m\u001b[0;34m(\u001b[0m\u001b[0mreq\u001b[0m\u001b[0;34m.\u001b[0m\u001b[0mread\u001b[0m\u001b[0;34m(\u001b[0m\u001b[0;34m)\u001b[0m\u001b[0;34m)\u001b[0m\u001b[0;34m\u001b[0m\u001b[0;34m\u001b[0m\u001b[0m\n\u001b[0m\u001b[1;32m    178\u001b[0m         \u001b[0mreq\u001b[0m\u001b[0;34m.\u001b[0m\u001b[0mclose\u001b[0m\u001b[0;34m(\u001b[0m\u001b[0;34m)\u001b[0m\u001b[0;34m\u001b[0m\u001b[0;34m\u001b[0m\u001b[0m\n\u001b[1;32m    179\u001b[0m         \u001b[0;32mreturn\u001b[0m \u001b[0mreader\u001b[0m\u001b[0;34m,\u001b[0m \u001b[0mencoding\u001b[0m\u001b[0;34m,\u001b[0m \u001b[0mcompression\u001b[0m\u001b[0;34m,\u001b[0m \u001b[0;32mTrue\u001b[0m\u001b[0;34m\u001b[0m\u001b[0;34m\u001b[0m\u001b[0m\n",
      "\u001b[0;32m~/opt/anaconda3/lib/python3.8/http/client.py\u001b[0m in \u001b[0;36mread\u001b[0;34m(self, amt)\u001b[0m\n\u001b[1;32m    469\u001b[0m             \u001b[0;32melse\u001b[0m\u001b[0;34m:\u001b[0m\u001b[0;34m\u001b[0m\u001b[0;34m\u001b[0m\u001b[0m\n\u001b[1;32m    470\u001b[0m                 \u001b[0;32mtry\u001b[0m\u001b[0;34m:\u001b[0m\u001b[0;34m\u001b[0m\u001b[0;34m\u001b[0m\u001b[0m\n\u001b[0;32m--> 471\u001b[0;31m                     \u001b[0ms\u001b[0m \u001b[0;34m=\u001b[0m \u001b[0mself\u001b[0m\u001b[0;34m.\u001b[0m\u001b[0m_safe_read\u001b[0m\u001b[0;34m(\u001b[0m\u001b[0mself\u001b[0m\u001b[0;34m.\u001b[0m\u001b[0mlength\u001b[0m\u001b[0;34m)\u001b[0m\u001b[0;34m\u001b[0m\u001b[0;34m\u001b[0m\u001b[0m\n\u001b[0m\u001b[1;32m    472\u001b[0m                 \u001b[0;32mexcept\u001b[0m \u001b[0mIncompleteRead\u001b[0m\u001b[0;34m:\u001b[0m\u001b[0;34m\u001b[0m\u001b[0;34m\u001b[0m\u001b[0m\n\u001b[1;32m    473\u001b[0m                     \u001b[0mself\u001b[0m\u001b[0;34m.\u001b[0m\u001b[0m_close_conn\u001b[0m\u001b[0;34m(\u001b[0m\u001b[0;34m)\u001b[0m\u001b[0;34m\u001b[0m\u001b[0;34m\u001b[0m\u001b[0m\n",
      "\u001b[0;32m~/opt/anaconda3/lib/python3.8/http/client.py\u001b[0m in \u001b[0;36m_safe_read\u001b[0;34m(self, amt)\u001b[0m\n\u001b[1;32m    610\u001b[0m         \u001b[0mIncompleteRead\u001b[0m \u001b[0mexception\u001b[0m \u001b[0mcan\u001b[0m \u001b[0mbe\u001b[0m \u001b[0mused\u001b[0m \u001b[0mto\u001b[0m \u001b[0mdetect\u001b[0m \u001b[0mthe\u001b[0m \u001b[0mproblem\u001b[0m\u001b[0;34m.\u001b[0m\u001b[0;34m\u001b[0m\u001b[0;34m\u001b[0m\u001b[0m\n\u001b[1;32m    611\u001b[0m         \"\"\"\n\u001b[0;32m--> 612\u001b[0;31m         \u001b[0mdata\u001b[0m \u001b[0;34m=\u001b[0m \u001b[0mself\u001b[0m\u001b[0;34m.\u001b[0m\u001b[0mfp\u001b[0m\u001b[0;34m.\u001b[0m\u001b[0mread\u001b[0m\u001b[0;34m(\u001b[0m\u001b[0mamt\u001b[0m\u001b[0;34m)\u001b[0m\u001b[0;34m\u001b[0m\u001b[0;34m\u001b[0m\u001b[0m\n\u001b[0m\u001b[1;32m    613\u001b[0m         \u001b[0;32mif\u001b[0m \u001b[0mlen\u001b[0m\u001b[0;34m(\u001b[0m\u001b[0mdata\u001b[0m\u001b[0;34m)\u001b[0m \u001b[0;34m<\u001b[0m \u001b[0mamt\u001b[0m\u001b[0;34m:\u001b[0m\u001b[0;34m\u001b[0m\u001b[0;34m\u001b[0m\u001b[0m\n\u001b[1;32m    614\u001b[0m             \u001b[0;32mraise\u001b[0m \u001b[0mIncompleteRead\u001b[0m\u001b[0;34m(\u001b[0m\u001b[0mdata\u001b[0m\u001b[0;34m,\u001b[0m \u001b[0mamt\u001b[0m\u001b[0;34m-\u001b[0m\u001b[0mlen\u001b[0m\u001b[0;34m(\u001b[0m\u001b[0mdata\u001b[0m\u001b[0;34m)\u001b[0m\u001b[0;34m)\u001b[0m\u001b[0;34m\u001b[0m\u001b[0;34m\u001b[0m\u001b[0m\n",
      "\u001b[0;32m~/opt/anaconda3/lib/python3.8/socket.py\u001b[0m in \u001b[0;36mreadinto\u001b[0;34m(self, b)\u001b[0m\n\u001b[1;32m    667\u001b[0m         \u001b[0;32mwhile\u001b[0m \u001b[0;32mTrue\u001b[0m\u001b[0;34m:\u001b[0m\u001b[0;34m\u001b[0m\u001b[0;34m\u001b[0m\u001b[0m\n\u001b[1;32m    668\u001b[0m             \u001b[0;32mtry\u001b[0m\u001b[0;34m:\u001b[0m\u001b[0;34m\u001b[0m\u001b[0;34m\u001b[0m\u001b[0m\n\u001b[0;32m--> 669\u001b[0;31m                 \u001b[0;32mreturn\u001b[0m \u001b[0mself\u001b[0m\u001b[0;34m.\u001b[0m\u001b[0m_sock\u001b[0m\u001b[0;34m.\u001b[0m\u001b[0mrecv_into\u001b[0m\u001b[0;34m(\u001b[0m\u001b[0mb\u001b[0m\u001b[0;34m)\u001b[0m\u001b[0;34m\u001b[0m\u001b[0;34m\u001b[0m\u001b[0m\n\u001b[0m\u001b[1;32m    670\u001b[0m             \u001b[0;32mexcept\u001b[0m \u001b[0mtimeout\u001b[0m\u001b[0;34m:\u001b[0m\u001b[0;34m\u001b[0m\u001b[0;34m\u001b[0m\u001b[0m\n\u001b[1;32m    671\u001b[0m                 \u001b[0mself\u001b[0m\u001b[0;34m.\u001b[0m\u001b[0m_timeout_occurred\u001b[0m \u001b[0;34m=\u001b[0m \u001b[0;32mTrue\u001b[0m\u001b[0;34m\u001b[0m\u001b[0;34m\u001b[0m\u001b[0m\n",
      "\u001b[0;32m~/opt/anaconda3/lib/python3.8/ssl.py\u001b[0m in \u001b[0;36mrecv_into\u001b[0;34m(self, buffer, nbytes, flags)\u001b[0m\n\u001b[1;32m   1239\u001b[0m                   \u001b[0;34m\"non-zero flags not allowed in calls to recv_into() on %s\"\u001b[0m \u001b[0;34m%\u001b[0m\u001b[0;34m\u001b[0m\u001b[0;34m\u001b[0m\u001b[0m\n\u001b[1;32m   1240\u001b[0m                   self.__class__)\n\u001b[0;32m-> 1241\u001b[0;31m             \u001b[0;32mreturn\u001b[0m \u001b[0mself\u001b[0m\u001b[0;34m.\u001b[0m\u001b[0mread\u001b[0m\u001b[0;34m(\u001b[0m\u001b[0mnbytes\u001b[0m\u001b[0;34m,\u001b[0m \u001b[0mbuffer\u001b[0m\u001b[0;34m)\u001b[0m\u001b[0;34m\u001b[0m\u001b[0;34m\u001b[0m\u001b[0m\n\u001b[0m\u001b[1;32m   1242\u001b[0m         \u001b[0;32melse\u001b[0m\u001b[0;34m:\u001b[0m\u001b[0;34m\u001b[0m\u001b[0;34m\u001b[0m\u001b[0m\n\u001b[1;32m   1243\u001b[0m             \u001b[0;32mreturn\u001b[0m \u001b[0msuper\u001b[0m\u001b[0;34m(\u001b[0m\u001b[0;34m)\u001b[0m\u001b[0;34m.\u001b[0m\u001b[0mrecv_into\u001b[0m\u001b[0;34m(\u001b[0m\u001b[0mbuffer\u001b[0m\u001b[0;34m,\u001b[0m \u001b[0mnbytes\u001b[0m\u001b[0;34m,\u001b[0m \u001b[0mflags\u001b[0m\u001b[0;34m)\u001b[0m\u001b[0;34m\u001b[0m\u001b[0;34m\u001b[0m\u001b[0m\n",
      "\u001b[0;32m~/opt/anaconda3/lib/python3.8/ssl.py\u001b[0m in \u001b[0;36mread\u001b[0;34m(self, len, buffer)\u001b[0m\n\u001b[1;32m   1097\u001b[0m         \u001b[0;32mtry\u001b[0m\u001b[0;34m:\u001b[0m\u001b[0;34m\u001b[0m\u001b[0;34m\u001b[0m\u001b[0m\n\u001b[1;32m   1098\u001b[0m             \u001b[0;32mif\u001b[0m \u001b[0mbuffer\u001b[0m \u001b[0;32mis\u001b[0m \u001b[0;32mnot\u001b[0m \u001b[0;32mNone\u001b[0m\u001b[0;34m:\u001b[0m\u001b[0;34m\u001b[0m\u001b[0;34m\u001b[0m\u001b[0m\n\u001b[0;32m-> 1099\u001b[0;31m                 \u001b[0;32mreturn\u001b[0m \u001b[0mself\u001b[0m\u001b[0;34m.\u001b[0m\u001b[0m_sslobj\u001b[0m\u001b[0;34m.\u001b[0m\u001b[0mread\u001b[0m\u001b[0;34m(\u001b[0m\u001b[0mlen\u001b[0m\u001b[0;34m,\u001b[0m \u001b[0mbuffer\u001b[0m\u001b[0;34m)\u001b[0m\u001b[0;34m\u001b[0m\u001b[0;34m\u001b[0m\u001b[0m\n\u001b[0m\u001b[1;32m   1100\u001b[0m             \u001b[0;32melse\u001b[0m\u001b[0;34m:\u001b[0m\u001b[0;34m\u001b[0m\u001b[0;34m\u001b[0m\u001b[0m\n\u001b[1;32m   1101\u001b[0m                 \u001b[0;32mreturn\u001b[0m \u001b[0mself\u001b[0m\u001b[0;34m.\u001b[0m\u001b[0m_sslobj\u001b[0m\u001b[0;34m.\u001b[0m\u001b[0mread\u001b[0m\u001b[0;34m(\u001b[0m\u001b[0mlen\u001b[0m\u001b[0;34m)\u001b[0m\u001b[0;34m\u001b[0m\u001b[0;34m\u001b[0m\u001b[0m\n",
      "\u001b[0;31mKeyboardInterrupt\u001b[0m: "
     ]
    }
   ],
   "source": [
    "dfFruits = Fruits.onedrive_directdownload()\r\n",
    "dfNonStarchVegetables = NSVeg.onedrive_directdownload()\r\n",
    "dfPotatoes = Potatoes.onedrive_directdownload()\r\n",
    "dfStarchyVeg = StarchyVeg.onedrive_directdownload()\r\n",
    "dfBeanLegume = BeanLegume.onedrive_directdownload()\r\n",
    "dfNutsSeeds = NutsSeeds.onedrive_directdownload()\r\n",
    "dfRefinedGrains = RefinedGrains.onedrive_directdownload()\r\n",
    "dfWholeGrains = WholeGrains.onedrive_directdownload()\r\n",
    "dfProcessedMeat = ProcessedMeat.onedrive_directdownload()\r\n",
    "dfSeafoods = Seafoods.onedrive_directdownload()\r\n",
    "dfEggs = Eggs.onedrive_directdownload()\r\n",
    "dfCheese = Cheese.onedrive_directdownload()\r\n",
    "dfYoghurt = Yoghurt.onedrive_directdownload()\r\n",
    "dfMilk = Milk.onedrive_directdownload()"
   ]
  },
  {
   "cell_type": "code",
   "execution_count": 1,
   "metadata": {},
   "outputs": [],
   "source": [
    "import onedrive\n",
    "import pandas as pd\n",
    "\n",
    "dfFruits = pd.read_pickle(\"dietdataset/Fruits.pkl\")\n",
    "dfNonStarchVegetables = pd.read_pickle(\"dietdataset/NonStarchVegetables.pkl\")\n",
    "dfPotatoes = pd.read_pickle(\"dietdataset/Potatoes.pkl\")\n",
    "dfStarchyVeg = pd.read_pickle(\"dietdataset/StarchyVeg.pkl\")\n",
    "dfBeanLegume = pd.read_pickle(\"dietdataset/BeanLegume.pkl\")\n",
    "dfNutsSeeds = pd.read_pickle(\"dietdataset/NutsSeeds.pkl\")\n",
    "dfRefinedGrains = pd.read_pickle(\"dietdataset/RefinedGrains.pkl\")\n",
    "dfWholeGrains = pd.read_pickle(\"dietdataset/WholeGrains.pkl\")\n",
    "dfProcessedMeat = pd.read_pickle(\"dietdataset/ProcessedMeat.pkl\")\n",
    "dfSeafoods = pd.read_pickle(\"dietdataset/Seafoods.pkl\")\n",
    "dfEggs = pd.read_pickle(\"dietdataset/Eggs.pkl\")\n",
    "dfCheese = pd.read_pickle(\"dietdataset/Cheese.pkl\")\n",
    "dfYoghurt = pd.read_pickle(\"dietdataset/Yoghurt.pkl\")\n",
    "dfMilk = pd.read_pickle(\"dietdataset/Milk.pkl\")"
   ]
  },
  {
   "cell_type": "code",
   "execution_count": 2,
   "metadata": {},
   "outputs": [],
   "source": [
    "def getTotals(df):\r\n",
    "    dfTotal = df[[any([age, female, urban, edu]) \r\n",
    "    for age, female, urban, edu \r\n",
    "    in zip(df.age==999, df.female==999, df.urban==999, df.edu==999)]]\r\n",
    "    dfTotal = dfTotal[dfTotal.columns.drop(['median', 'upperci_95', 'lowerci_95', 's_lowerci_95', 's_upperci_95']+list(dfTotal.filter(regex='type')))]\r\n",
    "    return dfTotal\r\n",
    "\r\n",
    "FruitsTotals = getTotals(dfFruits)\r\n",
    "NonStarchVegetablesTotals = getTotals(dfNonStarchVegetables)\r\n",
    "PotatoesTotals = getTotals(dfPotatoes)\r\n",
    "StarchyVegTotals = getTotals(dfStarchyVeg)\r\n",
    "BeanLegumeTotals = getTotals(dfBeanLegume)\r\n",
    "NutSeedsTotals = getTotals(dfNutsSeeds)\r\n",
    "RefinedGrainsTotals = getTotals(dfRefinedGrains)\r\n",
    "WholeGrainsTotals = getTotals(dfWholeGrains)\r\n",
    "ProcessedMeatTotals = getTotals(dfProcessedMeat)\r\n",
    "SeafoodsTotals = getTotals(dfSeafoods)\r\n",
    "EggsTotals = getTotals(dfEggs)\r\n",
    "CheeseTotals = getTotals(dfCheese)\r\n",
    "YoghurtTotals = getTotals(dfYoghurt)\r\n",
    "MilkTotals = getTotals(dfMilk)\r\n",
    "\r\n",
    "Totals = [FruitsTotals, NonStarchVegetablesTotals, PotatoesTotals, StarchyVegTotals,\r\n",
    "    BeanLegumeTotals, NutSeedsTotals, RefinedGrainsTotals, WholeGrainsTotals,\r\n",
    "    ProcessedMeatTotals, SeafoodsTotals, EggsTotals, CheeseTotals,\r\n",
    "    YoghurtTotals, MilkTotals]\r\n",
    "dfTotals = pd.concat(Totals)\r\n",
    "dfTotals.dropna(inplace=True)\r\n",
    "dfTotals.reset_index(inplace=True)\r\n",
    "dfTotals.drop('index', axis=1, inplace=True)"
   ]
  },
  {
   "cell_type": "code",
   "execution_count": 6,
   "metadata": {},
   "outputs": [
    {
     "name": "stdout",
     "output_type": "stream",
     "text": [
      "No missing values in dataset\n"
     ]
    }
   ],
   "source": [
    "if not sum(dfTotals.isna().any()):\r\n",
    "    print('No missing values in dataset')\r\n",
    "else:\r\n",
    "    print('Missing Data {}'.format(dfTotals.isna().any()))"
   ]
  },
  {
   "cell_type": "code",
   "execution_count": 7,
   "metadata": {},
   "outputs": [],
   "source": [
    "GDDMetadata = onedrive.OneDriveDataset(\"https://1drv.ms/x/s!AvCFI7fzKgPmhPdgyKnmij1HR-FaOg?e=MJs3GQ\", excel=True, sheet=None, header=1).onedrive_directdownload()"
   ]
  },
  {
   "cell_type": "code",
   "execution_count": 5,
   "metadata": {},
   "outputs": [
    {
     "data": {
      "text/plain": "{'File nomenclature':     Numeric Code                  GDD Variable Label  Unnamed: 2  \\\n 0              1                              Fruits         NaN   \n 1              2              Non-starchy vegetables         NaN   \n 2              3                            Potatoes         NaN   \n 3              4            Other starchy vegetables         NaN   \n 4              5                   Beans and legumes         NaN   \n 5              6                      Nuts and seeds         NaN   \n 6              7                      Refined grains         NaN   \n 7              8                        Whole grains         NaN   \n 8              9               Total processed meats         NaN   \n 9             11                      Total seafoods         NaN   \n 10            12                                Eggs         NaN   \n 11            13                              Cheese         NaN   \n 12            14  Yoghurt (including fermented milk)         NaN   \n 13            15           Sugar-sweetened beverages         NaN   \n 14            16                        Fruit juices         NaN   \n 15            17                              Coffee         NaN   \n 16            18                                 Tea         NaN   \n 17            22                 Total carbohydrates         NaN   \n 18            23                       Total protein         NaN   \n 19            27                       Saturated fat         NaN   \n 20            28         Monounsaturated fatty acids         NaN   \n 21            29                   Total omega-6 fat         NaN   \n 22            30                 Seafood omega-3 fat         NaN   \n 23            31                   Plant omega-3 fat         NaN   \n 24            24                       Dietary fiber         NaN   \n 25            35                        Added sugars         NaN   \n 26            36                             Calcium         NaN   \n 27            37                      Dietary sodium         NaN   \n 28            38                              Iodine         NaN   \n 29            39                                Iron         NaN   \n 30            40                           Magnesium         NaN   \n 31            41                           Potassium         NaN   \n 32            42                            Selenium         NaN   \n 33            43            Vitamin A w/ supplements         NaN   \n 34            45                          Vitamin B1         NaN   \n 35            46                          Vitamin B2         NaN   \n 36            47                          Vitamin B3         NaN   \n 37            48                          Vitamin B6         NaN   \n 38            49                 Vitamin B9 (Folate)         NaN   \n 39            51                           Vitamin C         NaN   \n 40            52                           Vitamin D         NaN   \n 41            53                           Vitamin E         NaN   \n 42            54                                Zinc         NaN   \n 43            57                          Total Milk         NaN   \n \n           Filename                                               Code  \n 0         *_global              All estimates are at the global level  \n 1   *_superregion2  All estimates are at the superregion level (se...  \n 2           *_cnty             All estimates are at the country level  \n 3              NaN                                                NaN  \n 4              NaN                                                NaN  \n 5              NaN                                                NaN  \n 6              NaN                                                NaN  \n 7              NaN                                                NaN  \n 8              NaN                                                NaN  \n 9              NaN                                                NaN  \n 10             NaN                                                NaN  \n 11             NaN                                                NaN  \n 12             NaN                                                NaN  \n 13             NaN                                                NaN  \n 14             NaN                                                NaN  \n 15             NaN                                                NaN  \n 16             NaN                                                NaN  \n 17             NaN                                                NaN  \n 18             NaN                                                NaN  \n 19             NaN                                                NaN  \n 20             NaN                                                NaN  \n 21             NaN                                                NaN  \n 22             NaN                                                NaN  \n 23             NaN                                                NaN  \n 24             NaN                                                NaN  \n 25             NaN                                                NaN  \n 26             NaN                                                NaN  \n 27             NaN                                                NaN  \n 28             NaN                                                NaN  \n 29             NaN                                                NaN  \n 30             NaN                                                NaN  \n 31             NaN                                                NaN  \n 32             NaN                                                NaN  \n 33             NaN                                                NaN  \n 34             NaN                                                NaN  \n 35             NaN                                                NaN  \n 36             NaN                                                NaN  \n 37             NaN                                                NaN  \n 38             NaN                                                NaN  \n 39             NaN                                                NaN  \n 40             NaN                                                NaN  \n 41             NaN                                                NaN  \n 42             NaN                                                NaN  \n 43             NaN                                                NaN  ,\n 'Stratum-level characteristics':                     Label Code  Unnamed: 2 Label.1  \\\n 0             Afghanistan  AFG         NaN    Asia   \n 1                  Angola  AGO         NaN     FSU   \n 2                 Albania  ALB         NaN     HIC   \n 3                 Andorra  AND         NaN     LAC   \n 4    United Arab Emirates  ARE         NaN    MENA   \n ..                    ...  ...         ...     ...   \n 182                 Samoa  WSM         NaN     NaN   \n 183                 Yemen  YEM         NaN     NaN   \n 184          South Africa  ZAF         NaN     NaN   \n 185                Zambia  ZMB         NaN     NaN   \n 186              Zimbabwe  ZWE         NaN     NaN   \n \n                          Code.1  Unnamed: 5      Label.2  Code.2  Unnamed: 8  \\\n 0         East & Southeast Asia         NaN     0-11 mo.     0.5         NaN   \n 1           Former Soviet Union         NaN    12-23 mo.     1.5         NaN   \n 2         High-Income Countries         NaN    2-5 years     2.5         NaN   \n 3     Latin America & Caribbean         NaN   6-10 years     7.5         NaN   \n 4    Middle East & North Africa         NaN  11-14 years    12.5         NaN   \n ..                          ...         ...          ...     ...         ...   \n 182                         NaN         NaN          NaN     NaN         NaN   \n 183                         NaN         NaN          NaN     NaN         NaN   \n 184                         NaN         NaN          NaN     NaN         NaN   \n 185                         NaN         NaN          NaN     NaN         NaN   \n 186                         NaN         NaN          NaN     NaN         NaN   \n \n                     Label.3 Code.3 Unnamed: 11         Label.4 Code.4  \\\n 0    Low (0-6 years formal)      1         NaN           Rural      0   \n 1    Medium (6.01-12 years)      2         NaN           Urban      1   \n 2       High (12.01+ years)      3         NaN  All residences    999   \n 3      All education levels    999         NaN             NaN    NaN   \n 4                       NaN    NaN         NaN             NaN    NaN   \n ..                      ...    ...         ...             ...    ...   \n 182                     NaN    NaN         NaN             NaN    NaN   \n 183                     NaN    NaN         NaN             NaN    NaN   \n 184                     NaN    NaN         NaN             NaN    NaN   \n 185                     NaN    NaN         NaN             NaN    NaN   \n 186                     NaN    NaN         NaN             NaN    NaN   \n \n     Unnamed: 14     Label.5  Code.5  \n 0           NaN        Male     0.0  \n 1           NaN      Female     1.0  \n 2           NaN  Both sexes   999.0  \n 3           NaN         NaN     NaN  \n 4           NaN         NaN     NaN  \n ..          ...         ...     ...  \n 182         NaN         NaN     NaN  \n 183         NaN         NaN     NaN  \n 184         NaN         NaN     NaN  \n 185         NaN         NaN     NaN  \n 186         NaN         NaN     NaN  \n \n [187 rows x 17 columns],\n 'Dietary intake data':                     GDD Variable Label  \\\n 0                         Added sugars   \n 1                    Beans and legumes   \n 2                              Calcium   \n 3                               Cheese   \n 4                               Coffee   \n 5                  Dietary cholesterol   \n 6                        Dietary fiber   \n 7                       Dietary sodium   \n 8                                 Eggs   \n 9                         Fruit juices   \n 10                              Fruits   \n 11                              Iodine   \n 12                                Iron   \n 13                           Magnesium   \n 14                 Monounsaturated fat   \n 15              Non-starchy vegetables   \n 16                      Nuts and seeds   \n 17            Other starchy vegetables   \n 18             Plant omega-3 (n-3) fat   \n 19                       Plant protein   \n 20                           Potassium   \n 21                            Potatoes   \n 22                    Reduced fat milk   \n 23                      Refined grains   \n 24                       Saturated fat   \n 25           Seafood omega-3 (n-3) fat   \n 26                            Selenium   \n 27           Sugar-sweetened beverages   \n 28                                 Tea   \n 29                Total animal protein   \n 30                 Total carbohydrates   \n 31                        Total energy   \n 32                          Total Milk   \n 33           Total omega-6 fatty acids   \n 34               Total processed meats   \n 35                       Total protein   \n 36                      Total seafoods   \n 37                    Trans fatty acid   \n 38               Unprocessed red meats   \n 39          Vitamin A with supplements   \n 40       Vitamin A without supplements   \n 41                          Vitamin B1   \n 42                         Vitamin B12   \n 43                          Vitamin B2   \n 44                          Vitamin B3   \n 45                          Vitamin B6   \n 46                 Vitamin B9 (Folate)   \n 47                           Vitamin C   \n 48                           Vitamin D   \n 49                           Vitamin E   \n 50                      Whole fat milk   \n 51                        Whole grains   \n 52  Yoghurt (including fermented milk)   \n 53                                Zinc   \n \n                                 GDD Variable Unit  Unnamed: 2  \\\n 0   % of total kcal per day (energy contribution)         NaN   \n 1                                   grams per day         NaN   \n 2                         milligrams (mg) per day         NaN   \n 3                                   grams per day         NaN   \n 4                           cups/day (1 cup=8 oz)         NaN   \n 5                         milligrams (mg) per day         NaN   \n 6                                   grams per day         NaN   \n 7                         milligrams (mg) per day         NaN   \n 8                                   grams per day         NaN   \n 9                                   grams per day         NaN   \n 10                                  grams per day         NaN   \n 11                        micrograms (µg) per day         NaN   \n 12                        milligrams (mg) per day         NaN   \n 13                        milligrams (mg) per day         NaN   \n 14  % of total kcal per day (energy contribution)         NaN   \n 15                                  grams per day         NaN   \n 16                                  grams per day         NaN   \n 17                                  grams per day         NaN   \n 18                        milligrams (mg) per day         NaN   \n 19                                  grams per day         NaN   \n 20                        milligrams (mg) per day         NaN   \n 21                                  grams per day         NaN   \n 22                                  grams per day         NaN   \n 23                                  grams per day         NaN   \n 24  % of total kcal per day (energy contribution)         NaN   \n 25                        milligrams (mg) per day         NaN   \n 26                        micrograms (µg) per day         NaN   \n 27                                  grams per day         NaN   \n 28                          cups/day (1 cup=8 oz)         NaN   \n 29                                  grams per day         NaN   \n 30  % of total kcal per day (energy contribution)         NaN   \n 31                                   kcal per day         NaN   \n 32                                  grams per day         NaN   \n 33  % of total kcal per day (energy contribution)         NaN   \n 34                                  grams per day         NaN   \n 35                                  grams per day         NaN   \n 36                                  grams per day         NaN   \n 37  % of total kcal per day (energy contribution)         NaN   \n 38                                  grams per day         NaN   \n 39   μg RAE/day (RAE=retinol activity equivalent)         NaN   \n 40   μg RAE/day (RAE=retinol activity equivalent)         NaN   \n 41                        milligrams (mg) per day         NaN   \n 42                        micrograms (µg) per day         NaN   \n 43                        milligrams (mg) per day         NaN   \n 44                        milligrams (mg) per day         NaN   \n 45                        milligrams (mg) per day         NaN   \n 46                    micrograms (µg) per day DFE         NaN   \n 47                        milligrams (mg) per day         NaN   \n 48                        micrograms (µg) per day         NaN   \n 49                        milligrams (mg) per day         NaN   \n 50                                  grams per day         NaN   \n 51                                  grams per day         NaN   \n 52                                  grams per day         NaN   \n 53                        milligrams (mg) per day         NaN   \n \n                                              Variable  \\\n 0                                              median   \n 1                                          lowerci_95   \n 2                                          upperci_95   \n 3                                             serving   \n 4                                        s_lowerci_95   \n 5                                        s_upperci_95   \n 6                                                 NaN   \n 7   *Despite its name, the 'median' variable is in...   \n 8                                                 NaN   \n 9                                                 NaN   \n 10                                                NaN   \n 11                                                NaN   \n 12                                                NaN   \n 13                                                NaN   \n 14                                                NaN   \n 15                                                NaN   \n 16                                                NaN   \n 17                                                NaN   \n 18                                                NaN   \n 19                                                NaN   \n 20                                                NaN   \n 21                                                NaN   \n 22                                                NaN   \n 23                                                NaN   \n 24                                                NaN   \n 25                                                NaN   \n 26                                                NaN   \n 27                                                NaN   \n 28                                                NaN   \n 29                                                NaN   \n 30                                                NaN   \n 31                                                NaN   \n 32                                                NaN   \n 33                                                NaN   \n 34                                                NaN   \n 35                                                NaN   \n 36                                                NaN   \n 37                                                NaN   \n 38                                                NaN   \n 39                                                NaN   \n 40                                                NaN   \n 41                                                NaN   \n 42                                                NaN   \n 43                                                NaN   \n 44                                                NaN   \n 45                                                NaN   \n 46                                                NaN   \n 47                                                NaN   \n 48                                                NaN   \n 49                                                NaN   \n 50                                                NaN   \n 51                                                NaN   \n 52                                                NaN   \n 53                                                NaN   \n \n                                            Definition      Unnamed: 5  \n 0   Mean daily intake of variable vXX in GDD varia...             NaN  \n 1   Lower uncertainty interval (2.5°) for mean intake  vXX_upperci_95  \n 2   Upper uncertainty interval (97.5°) for mean in...             NaN  \n 3   Mean daily intake of variable vXX in serving u...             NaN  \n 4   Lower uncertainty interval (2.5°) for mean int...             NaN  \n 5   Upper uncertainty interval (97.5°) for mean in...             NaN  \n 6                                                 NaN             NaN  \n 7                                                 NaN             NaN  \n 8                                                 NaN             NaN  \n 9                                                 NaN             NaN  \n 10                                                NaN             NaN  \n 11                                                NaN             NaN  \n 12                                                NaN             NaN  \n 13                                                NaN             NaN  \n 14                                                NaN             NaN  \n 15                                                NaN             NaN  \n 16                                                NaN             NaN  \n 17                                                NaN             NaN  \n 18                                                NaN             NaN  \n 19                                                NaN             NaN  \n 20                                                NaN             NaN  \n 21                                                NaN             NaN  \n 22                                                NaN             NaN  \n 23                                                NaN             NaN  \n 24                                                NaN             NaN  \n 25                                                NaN             NaN  \n 26                                                NaN             NaN  \n 27                                                NaN             NaN  \n 28                                                NaN             NaN  \n 29                                                NaN             NaN  \n 30                                                NaN             NaN  \n 31                                                NaN             NaN  \n 32                                                NaN             NaN  \n 33                                                NaN             NaN  \n 34                                                NaN             NaN  \n 35                                                NaN             NaN  \n 36                                                NaN             NaN  \n 37                                                NaN             NaN  \n 38                                                NaN             NaN  \n 39                                                NaN             NaN  \n 40                                                NaN             NaN  \n 41                                                NaN             NaN  \n 42                                                NaN             NaN  \n 43                                                NaN             NaN  \n 44                                                NaN             NaN  \n 45                                                NaN             NaN  \n 46                                                NaN             NaN  \n 47                                                NaN             NaN  \n 48                                                NaN             NaN  \n 49                                                NaN             NaN  \n 50                                                NaN             NaN  \n 51                                                NaN             NaN  \n 52                                                NaN             NaN  \n 53                                                NaN             NaN  ,\n 'Serving sizes': Empty DataFrame\n Columns: []\n Index: [],\n 'Model truncation values- Foods':            GDD 2015 Food & Beverage Truncation Values  \\\n 0                                              Coding   \n 1                                                 v01   \n 2                                                 v02   \n 3                                                 v03   \n 4                                                 v04   \n 5                                                 v05   \n 6                                                 v06   \n 7                                                 v07   \n 8                                                 NaN   \n 9                                                 NaN   \n 10                                                v08   \n 11                                                v09   \n 12                                                v10   \n 13                                                v11   \n 14                                                v12   \n 15                                                v13   \n 16                                                v14   \n 17                                                v15   \n 18                                                NaN   \n 19                                                v16   \n 20                                                v17   \n 21                                                NaN   \n 22                                                v18   \n 23                                                NaN   \n 24                                                v19   \n 25                                                v20   \n 26                                                v57   \n 27                                                NaN   \n 28  1. Unless otherwise stated, cutoffs apply to a...   \n 29  2. Serving sizes were calculated by searching ...   \n 30                                                NaN   \n 31  3. Refined grain cutoffs are regionally-specif...   \n 32  4. Sugar-sweetened beverage children cutoffs a...   \n 33  5. Coffee and tea children cutoffs apply to ag...   \n \n                                Unnamed: 1           Unnamed: 2     Unnamed: 3  \\\n 0                         Dietary Factor1          Superregion  Serving Size2   \n 1                                  Fruits                  All            100   \n 2                  Non-starchy vegetables                  All            100   \n 3                                Potatoes                  All            150   \n 4                Other starchy vegetables                  All            150   \n 5                       Beans and legumes                  All            100   \n 6                          Nuts and seeds                  All             28   \n 7                         Refined grains3                  HIC             50   \n 8                                     NaN  FSU, LAC, MENA, SSA          112.5   \n 9                                     NaN          Asia, SAARC            175   \n 10                           Whole grains                  All             50   \n 11                        Processed meats                  All             50   \n 12                  Unprocessed red meats                  All            100   \n 13                         Total seafoods                  All            100   \n 14                                   Eggs                  All             55   \n 15                                 Cheese                  All             42   \n 16                                 Yogurt                  All            245   \n 17  Sugar-sweetened beverages (Children)4                  All            248   \n 18     Sugar-sweetened beverages (Adults)                  All            248   \n 19                           Fruit Juices                  All            248   \n 20                     Coffee (Children)5                  All              1   \n 21                        Coffee (Adults)                  All              1   \n 22                        Tea (Children)5                  All              1   \n 23                           Tea (Adults)                  All              1   \n 24                       Reduced fat milk                  All            245   \n 25                         Whole fat milk                  All            245   \n 26                             Total Milk                  All            245   \n 27                                    NaN                  NaN            NaN   \n 28                                    NaN                  NaN            NaN   \n 29                                    NaN                  NaN            NaN   \n 30                                    NaN                  NaN            NaN   \n 31                                    NaN                  NaN            NaN   \n 32                                    NaN                  NaN            NaN   \n 33                                    NaN                  NaN            NaN   \n \n    Unnamed: 4                         Unnamed: 5  \\\n 0   GDD Units  Group mean minimum serving cutoff   \n 1       grams                                 ≤0   \n 2       grams                                 ≤0   \n 3       grams                                 ≤0   \n 4       grams                                 ≤0   \n 5       grams                                 ≤0   \n 6       grams                                 ≤0   \n 7       grams                                 ≤0   \n 8       grams                                 ≤0   \n 9       grams                                 ≤0   \n 10      grams                                 ≤0   \n 11      grams                                 ≤0   \n 12      grams                                 ≤0   \n 13      grams                                 ≤0   \n 14      grams                                 ≤0   \n 15      grams                                 ≤0   \n 16      grams                                 ≤0   \n 17      grams                                 ≤0   \n 18      grams                                 ≤0   \n 19      grams                                 ≤0   \n 20       cups                                 ≤0   \n 21       cups                                 ≤0   \n 22       cups                                 ≤0   \n 23       cups                                 ≤0   \n 24      grams                                 ≤0   \n 25      grams                                 ≤0   \n 26      grams                                 ≤0   \n 27        NaN                                NaN   \n 28        NaN                                NaN   \n 29        NaN                                NaN   \n 30        NaN                                NaN   \n 31        NaN                                NaN   \n 32        NaN                                NaN   \n 33        NaN                                NaN   \n \n                            Unnamed: 6                          Unnamed: 7  \\\n 0   Group mean maximum serving cutoff  Group mean minimum GDD unit cutoff   \n 1                                 5.2                                  ≤0   \n 2                                 5.2                                  ≤0   \n 3                                 3.9                                  ≤0   \n 4                                 3.9                                  ≤0   \n 5                                 5.2                                  ≤0   \n 6                                 3.9                                  ≤0   \n 7                                 7.8                                  ≤0   \n 8                                 7.8                                  ≤0   \n 9                                 7.8                                  ≤0   \n 10                                3.9                                  ≤0   \n 11                                2.6                                  ≤0   \n 12                                2.6                                  ≤0   \n 13                                2.6                                  ≤0   \n 14                                2.6                                  ≤0   \n 15                                2.6                                  ≤0   \n 16                                2.6                                  ≤0   \n 17                                7.8                                  ≤0   \n 18                                5.2                                  ≤0   \n 19                                3.9                                  ≤0   \n 20                                2.6                                  ≤0   \n 21                                3.9                                  ≤0   \n 22                                3.9                                  ≤0   \n 23                                7.8                                  ≤0   \n 24                                2.6                                  ≤0   \n 25                                2.6                                  ≤0   \n 26                                2.6                                  ≤0   \n 27                                NaN                                 NaN   \n 28                                NaN                                 NaN   \n 29                                NaN                                 NaN   \n 30                                NaN                                 NaN   \n 31                                NaN                                 NaN   \n 32                                NaN                                 NaN   \n 33                                NaN                                 NaN   \n \n                              Unnamed: 8  Unnamed: 9  Unnamed: 10  \\\n 0   Group mean maximum GDD unit cutoff2         NaN          NaN   \n 1                                   520         NaN          NaN   \n 2                                   520         NaN          NaN   \n 3                                   585         NaN          NaN   \n 4                                   585         NaN          NaN   \n 5                                   520         NaN          NaN   \n 6                                 109.2         NaN          NaN   \n 7                                   390         NaN          NaN   \n 8                                 877.5         NaN          NaN   \n 9                                  1365         NaN          NaN   \n 10                                  195         NaN          NaN   \n 11                                  130         NaN          NaN   \n 12                                  260         NaN          NaN   \n 13                                  260         NaN          NaN   \n 14                                  143         NaN          NaN   \n 15                                109.2         NaN          NaN   \n 16                                  637         NaN          NaN   \n 17                               1934.4         NaN          NaN   \n 18                               1289.6         NaN          NaN   \n 19                                967.2         NaN          NaN   \n 20                                  2.6         NaN          NaN   \n 21                                  3.9         NaN          NaN   \n 22                                  3.9         NaN          NaN   \n 23                                  7.8         NaN          NaN   \n 24                                  637         NaN          NaN   \n 25                                  637         NaN          NaN   \n 26                                  637         NaN          NaN   \n 27                                  NaN         NaN          NaN   \n 28                                  NaN         NaN          NaN   \n 29                                  NaN         NaN          NaN   \n 30                                  NaN         NaN          NaN   \n 31                                  NaN         NaN          NaN   \n 32                                  NaN         NaN          NaN   \n 33                                  NaN         NaN          NaN   \n \n                                           Unnamed: 11  Unnamed: 12  \\\n 0   Note: GDD truncation values were applied to an...          NaN   \n 1                                                 NaN          NaN   \n 2                                                 NaN          NaN   \n 3                                                 NaN          NaN   \n 4                                                 NaN          NaN   \n 5                                                 NaN          NaN   \n 6                                                 NaN          NaN   \n 7                                                 NaN          NaN   \n 8                                                 NaN          NaN   \n 9                                                 NaN          NaN   \n 10                                                NaN          NaN   \n 11                                                NaN          NaN   \n 12                                                NaN          NaN   \n 13                                                NaN          NaN   \n 14                                                NaN          NaN   \n 15                                                NaN          NaN   \n 16                                                NaN          NaN   \n 17                                                NaN          NaN   \n 18                                                NaN          NaN   \n 19                                                NaN          NaN   \n 20                                                NaN          NaN   \n 21                                                NaN          NaN   \n 22                                                NaN          NaN   \n 23                                                NaN          NaN   \n 24                                                NaN          NaN   \n 25                                                NaN          NaN   \n 26                                                NaN          NaN   \n 27                                                NaN          NaN   \n 28                                                NaN          NaN   \n 29                                                NaN          NaN   \n 30                                                NaN          NaN   \n 31                                                NaN          NaN   \n 32                                                NaN          NaN   \n 33                                                NaN          NaN   \n \n     Unnamed: 13  Unnamed: 14  Unnamed: 15  \n 0           NaN          NaN          NaN  \n 1           NaN          NaN          NaN  \n 2           NaN          NaN          NaN  \n 3           NaN          NaN          NaN  \n 4           NaN          NaN          NaN  \n 5           NaN          NaN          NaN  \n 6           NaN          NaN          NaN  \n 7           NaN          NaN          NaN  \n 8           NaN          NaN          NaN  \n 9           NaN          NaN          NaN  \n 10          NaN          NaN          NaN  \n 11          NaN          NaN          NaN  \n 12          NaN          NaN          NaN  \n 13          NaN          NaN          NaN  \n 14          NaN          NaN          NaN  \n 15          NaN          NaN          NaN  \n 16          NaN          NaN          NaN  \n 17          NaN          NaN          NaN  \n 18          NaN          NaN          NaN  \n 19          NaN          NaN          NaN  \n 20          NaN          NaN          NaN  \n 21          NaN          NaN          NaN  \n 22          NaN          NaN          NaN  \n 23          NaN          NaN          NaN  \n 24          NaN          NaN          NaN  \n 25          NaN          NaN          NaN  \n 26          NaN          NaN          NaN  \n 27          NaN          NaN          NaN  \n 28          NaN          NaN          NaN  \n 29          NaN          NaN          NaN  \n 30          NaN          NaN          NaN  \n 31          NaN          NaN          NaN  \n 32          NaN          NaN          NaN  \n 33          NaN          NaN          NaN  ,\n 'Truncation cont.- Nutrients':      GDD 2015 Macro & Micronutrient Truncation Values  \\\n 0                                      Macronutrients   \n 1                                                 NaN   \n 2                                       Variable code   \n 3                                                 v21   \n 4                                                 v22   \n 5                                                 v23   \n 6                                                 v26   \n 7                                                 v27   \n 8                                                 v28   \n 9                                                 v29   \n 10                                                v30   \n 11                                                v31   \n 12                                                v32   \n 13                                                v33   \n 14                                                v34   \n 15                                                v35   \n 16                                                v58   \n 17                                                NaN   \n 18                                     Micronutrients   \n 19                                                NaN   \n 20                                      Variable code   \n 21                                                v36   \n 22                                                v37   \n 23                                                v38   \n 24                                                v39   \n 25                                                v40   \n 26                                                v41   \n 27                                                v42   \n 28                                                v43   \n 29                                                v44   \n 30                                                v45   \n 31                                                v46   \n 32                                                v47   \n 33                                                v48   \n 34                                                v49   \n 35                                                v50   \n 36                                                v51   \n 37                                                v52   \n 38                                                v53   \n 39                                                v54   \n 40                                                NaN   \n 41  1. Nutrient cutoffs for adults apply to ages 1...   \n 42  2. Nutrient cutoffs for babies apply to ages 0...   \n 43  3. Nutrient cutoffs for children apply to ages...   \n 44  4. Protein gram estimates are based on a 2,000...   \n \n                    Unnamed: 1  Unnamed: 2                       Unnamed: 3  \\\n 0                         NaN         NaN                              NaN   \n 1                         NaN         NaN                          Adults1   \n 2              Dietary factor    GDD unit  Group adult mean minimum cutoff   \n 3                      Energy    kcal/day                                0   \n 4                Carbohydrate       %kcal                                0   \n 5              Total Protein4       g/day                                0   \n 6              Plant Protein4       g/day                                0   \n 7               Saturated Fat       %kcal                                0   \n 8         Monounsaturated fat       %kcal                                0   \n 9                 Omega 6 Fat       %kcal                                0   \n 10        Seafood Omega 3 Fat      mg/day                                0   \n 11              Plant Omega 3      mg/day                                0   \n 12                  Trans fat       %kcal                                0   \n 13        Dietary Cholesterol      mg/day                                0   \n 14              Dietary Fiber       g/day                                0   \n 15                Added Sugar       %kcal                                0   \n 16      Total Animal Protein4       g/day                                0   \n 17                        NaN         NaN                              NaN   \n 18                        NaN         NaN                              NaN   \n 19                        NaN         NaN                          Adults1   \n 20             Dietary factor    GDD unit  Group adult mean minimum cutoff   \n 21                    Calcium      mg/day                                0   \n 22                     Sodium      mg/day                                0   \n 23                     Iodine      ug/day                                0   \n 24                       Iron      mg/day                                0   \n 25                  Magnesium      mg/day                                0   \n 26                  Potassium      mg/day                                0   \n 27                   Selenium      ug/day                                0   \n 28     Vit. A with supplement  ug RAE/day                                0   \n 29  Vit. A without supplement  ug RAE/day                                0   \n 30                 Vitamin B1      mg/day                                0   \n 31                 Vitamin B2      mg/day                                0   \n 32                 Vitamin B3      mg/day                                0   \n 33                 Vitamin B6      mg/day                                0   \n 34        Vitamin B9 (Folate)      ug/day                                0   \n 35                Vitamin B12      ug/day                                0   \n 36                  Vitamin C      mg/day                                0   \n 37                  Vitamin D      ug/day                                0   \n 38                  Vitamin E      mg/day                                0   \n 39                       Zinc      mg/day                                0   \n 40                        NaN         NaN                              NaN   \n 41                        NaN         NaN                              NaN   \n 42                        NaN         NaN                              NaN   \n 43                        NaN         NaN                              NaN   \n 44                        NaN         NaN                              NaN   \n \n                          Unnamed: 4                      Unnamed: 5  \\\n 0                               NaN                             NaN   \n 1                               NaN                         Babies2   \n 2   Group adult mean maximum cutoff  Group baby mean minimum cutoff   \n 3                              5200                               0   \n 4                               104                               0   \n 5                               325                               0   \n 6                               195                               0   \n 7                                52                               0   \n 8                                39                               0   \n 9                                26                               0   \n 10                             5200                               0   \n 11                             7800                               0   \n 12                             19.5                               0   \n 13                             1300                               0   \n 14                               78                               0   \n 15                             58.5                               0   \n 16                              195                               0   \n 17                              NaN                             NaN   \n 18                              NaN                             NaN   \n 19                              NaN                         Babies2   \n 20  Group adult mean maximum cutoff  Group baby mean minimum cutoff   \n 21                             3900                               0   \n 22                            11700                               0   \n 23                             1040                               0   \n 24                               52                               0   \n 25                              910                               0   \n 26                            10400                               0   \n 27                              520                               0   \n 28                             6500                               0   \n 29                             3900                               0   \n 30                              5.2                               0   \n 31                              6.5                               0   \n 32                               78                               0   \n 33                              6.5                               0   \n 34                             1300                               0   \n 35                             19.5                               0   \n 36                              520                               0   \n 37                               65                               0   \n 38                               39                               0   \n 39                               65                               0   \n 40                              NaN                             NaN   \n 41                              NaN                             NaN   \n 42                              NaN                             NaN   \n 43                              NaN                             NaN   \n 44                              NaN                             NaN   \n \n                         Unnamed: 6                       Unnamed: 7  \\\n 0                              NaN                              NaN   \n 1                              NaN                        Children3   \n 2   Group baby mean maximum cutoff  Group child mean minimum cutoff   \n 3                             3900                                0   \n 4                              104                                0   \n 5                              195                                0   \n 6                              195                                0   \n 7                             45.5                                0   \n 8                               39                                0   \n 9                               26                                0   \n 10                             520                                0   \n 11                            5200                                0   \n 12                            10.4                                0   \n 13                            1040                                0   \n 14                              52                                0   \n 15                            58.5                                0   \n 16                             195                                0   \n 17                             NaN                              NaN   \n 18                             NaN                              NaN   \n 19                             NaN                        Children3   \n 20  Group baby mean maximum cutoff  Group child mean minimum cutoff   \n 21                            1950                                0   \n 22                            3900                                0   \n 23                             195                                0   \n 24                              39                                0   \n 25                             520                                0   \n 26                            7800                                0   \n 27                             117                                0   \n 28                            1950                                0   \n 29                             780                                0   \n 30                             2.6                                0   \n 31                             2.6                                0   \n 32                              39                                0   \n 33                             2.6                                0   \n 34                             650                                0   \n 35                              13                                0   \n 36                           162.5                                0   \n 37                            32.5                                0   \n 38                            19.5                                0   \n 39                            32.5                                0   \n 40                             NaN                              NaN   \n 41                             NaN                              NaN   \n 42                             NaN                              NaN   \n 43                             NaN                              NaN   \n 44                             NaN                              NaN   \n \n                          Unnamed: 8  \n 0                               NaN  \n 1                               NaN  \n 2   Group child mean maximum cutoff  \n 3                              3900  \n 4                               104  \n 5                               195  \n 6                               195  \n 7                              45.5  \n 8                                39  \n 9                                26  \n 10                              520  \n 11                             5200  \n 12                             10.4  \n 13                             1040  \n 14                               52  \n 15                             58.5  \n 16                              195  \n 17                              NaN  \n 18                              NaN  \n 19                              NaN  \n 20  Group child mean maximum cutoff  \n 21                             1950  \n 22                             3900  \n 23                              195  \n 24                               39  \n 25                              520  \n 26                             7800  \n 27                              364  \n 28                             1950  \n 29                              780  \n 30                              2.6  \n 31                              2.6  \n 32                               39  \n 33                              2.6  \n 34                              780  \n 35                               13  \n 36                            162.5  \n 37                             32.5  \n 38                             19.5  \n 39                             32.5  \n 40                              NaN  \n 41                              NaN  \n 42                              NaN  \n 43                              NaN  \n 44                              NaN  }"
     },
     "execution_count": 5,
     "metadata": {},
     "output_type": "execute_result"
    }
   ],
   "source": [
    "\n"
   ]
  },
  {
   "cell_type": "code",
   "execution_count": 31,
   "metadata": {},
   "outputs": [
    {
     "ename": "ValueError",
     "evalue": "Need to specify at least one of 'labels', 'index' or 'columns'",
     "output_type": "error",
     "traceback": [
      "\u001b[0;31m---------------------------------------------------------------------------\u001b[0m",
      "\u001b[0;31mValueError\u001b[0m                                Traceback (most recent call last)",
      "\u001b[0;32m<ipython-input-31-abc5b6c8e762>\u001b[0m in \u001b[0;36m<module>\u001b[0;34m\u001b[0m\n\u001b[0;32m----> 1\u001b[0;31m \u001b[0mdfGDDMetada\u001b[0m\u001b[0;34m.\u001b[0m\u001b[0miloc\u001b[0m\u001b[0;34m[\u001b[0m\u001b[0;36m0\u001b[0m\u001b[0;34m]\u001b[0m\u001b[0;34m.\u001b[0m\u001b[0mdrop\u001b[0m\u001b[0;34m(\u001b[0m\u001b[0;34m)\u001b[0m\u001b[0;34m\u001b[0m\u001b[0;34m\u001b[0m\u001b[0m\n\u001b[0m",
      "\u001b[0;32m~/opt/anaconda3/lib/python3.8/site-packages/pandas/core/series.py\u001b[0m in \u001b[0;36mdrop\u001b[0;34m(self, labels, axis, index, columns, level, inplace, errors)\u001b[0m\n\u001b[1;32m   4130\u001b[0m         \u001b[0mdtype\u001b[0m\u001b[0;34m:\u001b[0m \u001b[0mfloat64\u001b[0m\u001b[0;34m\u001b[0m\u001b[0;34m\u001b[0m\u001b[0m\n\u001b[1;32m   4131\u001b[0m         \"\"\"\n\u001b[0;32m-> 4132\u001b[0;31m         return super().drop(\n\u001b[0m\u001b[1;32m   4133\u001b[0m             \u001b[0mlabels\u001b[0m\u001b[0;34m=\u001b[0m\u001b[0mlabels\u001b[0m\u001b[0;34m,\u001b[0m\u001b[0;34m\u001b[0m\u001b[0;34m\u001b[0m\u001b[0m\n\u001b[1;32m   4134\u001b[0m             \u001b[0maxis\u001b[0m\u001b[0;34m=\u001b[0m\u001b[0maxis\u001b[0m\u001b[0;34m,\u001b[0m\u001b[0;34m\u001b[0m\u001b[0;34m\u001b[0m\u001b[0m\n",
      "\u001b[0;32m~/opt/anaconda3/lib/python3.8/site-packages/pandas/core/generic.py\u001b[0m in \u001b[0;36mdrop\u001b[0;34m(self, labels, axis, index, columns, level, inplace, errors)\u001b[0m\n\u001b[1;32m   3926\u001b[0m             \u001b[0maxes\u001b[0m\u001b[0;34m,\u001b[0m \u001b[0m_\u001b[0m \u001b[0;34m=\u001b[0m \u001b[0mself\u001b[0m\u001b[0;34m.\u001b[0m\u001b[0m_construct_axes_from_arguments\u001b[0m\u001b[0;34m(\u001b[0m\u001b[0;34m(\u001b[0m\u001b[0mindex\u001b[0m\u001b[0;34m,\u001b[0m \u001b[0mcolumns\u001b[0m\u001b[0;34m)\u001b[0m\u001b[0;34m,\u001b[0m \u001b[0;34m{\u001b[0m\u001b[0;34m}\u001b[0m\u001b[0;34m)\u001b[0m\u001b[0;34m\u001b[0m\u001b[0;34m\u001b[0m\u001b[0m\n\u001b[1;32m   3927\u001b[0m         \u001b[0;32melse\u001b[0m\u001b[0;34m:\u001b[0m\u001b[0;34m\u001b[0m\u001b[0;34m\u001b[0m\u001b[0m\n\u001b[0;32m-> 3928\u001b[0;31m             raise ValueError(\n\u001b[0m\u001b[1;32m   3929\u001b[0m                 \u001b[0;34m\"Need to specify at least one of 'labels', 'index' or 'columns'\"\u001b[0m\u001b[0;34m\u001b[0m\u001b[0;34m\u001b[0m\u001b[0m\n\u001b[1;32m   3930\u001b[0m             )\n",
      "\u001b[0;31mValueError\u001b[0m: Need to specify at least one of 'labels', 'index' or 'columns'"
     ]
    }
   ],
   "source": [
    "dfGDDMetada.drop(index=dfGDDMetada.index[0], axis=0, inplace=True)\n",
    "dfTotals = dfTotals.merge(dfGDDMetada)"
   ]
  },
  {
   "cell_type": "code",
   "execution_count": 7,
   "metadata": {},
   "outputs": [
    {
     "data": {
      "text/html": "<div>\n<style scoped>\n    .dataframe tbody tr th:only-of-type {\n        vertical-align: middle;\n    }\n\n    .dataframe tbody tr th {\n        vertical-align: top;\n    }\n\n    .dataframe thead th {\n        text-align: right;\n    }\n</style>\n<table border=\"1\" class=\"dataframe\">\n  <thead>\n    <tr style=\"text-align: right;\">\n      <th></th>\n      <th>superregion2</th>\n      <th>iso3</th>\n      <th>age</th>\n      <th>female</th>\n      <th>urban</th>\n      <th>edu</th>\n      <th>year</th>\n      <th>varnum</th>\n      <th>serving</th>\n    </tr>\n  </thead>\n  <tbody>\n    <tr>\n      <th>count</th>\n      <td>10195248</td>\n      <td>10195248</td>\n      <td>1.019525e+07</td>\n      <td>1.019525e+07</td>\n      <td>1.019525e+07</td>\n      <td>1.019525e+07</td>\n      <td>1.019525e+07</td>\n      <td>1.019525e+07</td>\n      <td>1.019525e+07</td>\n    </tr>\n    <tr>\n      <th>unique</th>\n      <td>7</td>\n      <td>185</td>\n      <td>NaN</td>\n      <td>NaN</td>\n      <td>NaN</td>\n      <td>NaN</td>\n      <td>NaN</td>\n      <td>NaN</td>\n      <td>NaN</td>\n    </tr>\n    <tr>\n      <th>top</th>\n      <td>SSA</td>\n      <td>JAM</td>\n      <td>NaN</td>\n      <td>NaN</td>\n      <td>NaN</td>\n      <td>NaN</td>\n      <td>NaN</td>\n      <td>NaN</td>\n      <td>NaN</td>\n    </tr>\n    <tr>\n      <th>freq</th>\n      <td>2651544</td>\n      <td>55272</td>\n      <td>NaN</td>\n      <td>NaN</td>\n      <td>NaN</td>\n      <td>NaN</td>\n      <td>NaN</td>\n      <td>NaN</td>\n      <td>NaN</td>\n    </tr>\n    <tr>\n      <th>mean</th>\n      <td>NaN</td>\n      <td>NaN</td>\n      <td>1.064133e+02</td>\n      <td>4.888852e+02</td>\n      <td>4.901532e+02</td>\n      <td>3.676483e+02</td>\n      <td>2.004715e+03</td>\n      <td>1.085714e+01</td>\n      <td>6.239673e-01</td>\n    </tr>\n    <tr>\n      <th>std</th>\n      <td>NaN</td>\n      <td>NaN</td>\n      <td>2.349805e+02</td>\n      <td>4.991319e+02</td>\n      <td>4.991568e+02</td>\n      <td>4.804718e+02</td>\n      <td>9.586844e+00</td>\n      <td>1.339967e+01</td>\n      <td>7.957784e-01</td>\n    </tr>\n    <tr>\n      <th>min</th>\n      <td>NaN</td>\n      <td>NaN</td>\n      <td>5.000000e-01</td>\n      <td>0.000000e+00</td>\n      <td>0.000000e+00</td>\n      <td>1.000000e+00</td>\n      <td>1.990000e+03</td>\n      <td>1.000000e+00</td>\n      <td>1.850549e-05</td>\n    </tr>\n    <tr>\n      <th>25%</th>\n      <td>NaN</td>\n      <td>NaN</td>\n      <td>1.750000e+01</td>\n      <td>0.000000e+00</td>\n      <td>0.000000e+00</td>\n      <td>2.000000e+00</td>\n      <td>1.995000e+03</td>\n      <td>4.000000e+00</td>\n      <td>1.322184e-01</td>\n    </tr>\n    <tr>\n      <th>50%</th>\n      <td>NaN</td>\n      <td>NaN</td>\n      <td>4.750000e+01</td>\n      <td>1.000000e+00</td>\n      <td>1.000000e+00</td>\n      <td>3.000000e+00</td>\n      <td>2.005000e+03</td>\n      <td>7.500000e+00</td>\n      <td>3.362493e-01</td>\n    </tr>\n    <tr>\n      <th>75%</th>\n      <td>NaN</td>\n      <td>NaN</td>\n      <td>7.750000e+01</td>\n      <td>9.990000e+02</td>\n      <td>9.990000e+02</td>\n      <td>9.990000e+02</td>\n      <td>2.015000e+03</td>\n      <td>1.200000e+01</td>\n      <td>7.992898e-01</td>\n    </tr>\n    <tr>\n      <th>max</th>\n      <td>NaN</td>\n      <td>NaN</td>\n      <td>9.990000e+02</td>\n      <td>9.990000e+02</td>\n      <td>9.990000e+02</td>\n      <td>9.990000e+02</td>\n      <td>2.018000e+03</td>\n      <td>5.700000e+01</td>\n      <td>1.720588e+01</td>\n    </tr>\n  </tbody>\n</table>\n</div>",
      "text/plain": "       superregion2      iso3           age        female         urban  \\\ncount      10195248  10195248  1.019525e+07  1.019525e+07  1.019525e+07   \nunique            7       185           NaN           NaN           NaN   \ntop             SSA       JAM           NaN           NaN           NaN   \nfreq        2651544     55272           NaN           NaN           NaN   \nmean            NaN       NaN  1.064133e+02  4.888852e+02  4.901532e+02   \nstd             NaN       NaN  2.349805e+02  4.991319e+02  4.991568e+02   \nmin             NaN       NaN  5.000000e-01  0.000000e+00  0.000000e+00   \n25%             NaN       NaN  1.750000e+01  0.000000e+00  0.000000e+00   \n50%             NaN       NaN  4.750000e+01  1.000000e+00  1.000000e+00   \n75%             NaN       NaN  7.750000e+01  9.990000e+02  9.990000e+02   \nmax             NaN       NaN  9.990000e+02  9.990000e+02  9.990000e+02   \n\n                 edu          year        varnum       serving  \ncount   1.019525e+07  1.019525e+07  1.019525e+07  1.019525e+07  \nunique           NaN           NaN           NaN           NaN  \ntop              NaN           NaN           NaN           NaN  \nfreq             NaN           NaN           NaN           NaN  \nmean    3.676483e+02  2.004715e+03  1.085714e+01  6.239673e-01  \nstd     4.804718e+02  9.586844e+00  1.339967e+01  7.957784e-01  \nmin     1.000000e+00  1.990000e+03  1.000000e+00  1.850549e-05  \n25%     2.000000e+00  1.995000e+03  4.000000e+00  1.322184e-01  \n50%     3.000000e+00  2.005000e+03  7.500000e+00  3.362493e-01  \n75%     9.990000e+02  2.015000e+03  1.200000e+01  7.992898e-01  \nmax     9.990000e+02  2.018000e+03  5.700000e+01  1.720588e+01  "
     },
     "execution_count": 7,
     "metadata": {},
     "output_type": "execute_result"
    }
   ],
   "source": [
    "dfTotals.describe(include='all')"
   ]
  },
  {
   "cell_type": "code",
   "execution_count": 5,
   "metadata": {},
   "outputs": [
    {
     "name": "stdout",
     "output_type": "stream",
     "text": [
      "Training dataframe: (8738520, 9) \n",
      "Validation dataframe: (1456728, 9)\n"
     ]
    }
   ],
   "source": [
    "dfTrain = dfTotals[dfTotals['year'] != 2018]\r\n",
    "dfValid = dfTotals[dfTotals['year'] == 2018]\r\n",
    "print(\"Training dataframe: {} \\nValidation dataframe: {}\".format(dfTrain.shape, dfValid.shape))"
   ]
  },
  {
   "cell_type": "code",
   "execution_count": 2,
   "metadata": {},
   "outputs": [],
   "source": [
    "from sklearn.pipeline import Pipeline\n",
    "from sklearn.compose import ColumnTransformer\n",
    "from sklearn.preprocessing import OrdinalEncoder\n",
    "from sklearn.preprocessing import OneHotEncoder\n",
    "from sklearn.impute import SimpleImputer\n",
    "from sklearn.preprocessing import StandardScaler\n",
    "from sklearn.model_selection import train_test_split\n",
    "from sklearn.ensemble import RandomForestRegressor\n",
    "from xgboost import XGBRegressor\n",
    "from catboost import CatBoostRegressor\n",
    "from lightgbm import LGBMRegressor\n",
    "from sklearn.metrics import mean_squared_error\n",
    "\n",
    "seed = 18"
   ]
  },
  {
   "cell_type": "code",
   "execution_count": 6,
   "metadata": {},
   "outputs": [],
   "source": [
    "catFeaturesLowCard = ['superregion2', 'age', 'female', 'urban', 'edu', 'varnum']\n",
    "catFeaturesHighCard = ['iso3']\n",
    "# numFeatures = []\n",
    "features = catFeaturesLowCard + catFeaturesHighCard # + numFeatures\n",
    "\n",
    "X = dfTrain.drop(['serving'], axis=1).copy()\n",
    "y = dfTrain['serving'].copy()\n",
    "X_valid = dfValid.drop(['serving'], axis=1).copy()\n",
    "y_valid = dfValid['serving'].copy()\n",
    "\n",
    "X_train, X_test, y_train, y_test = train_test_split(X, y, random_state=seed)"
   ]
  },
  {
   "cell_type": "code",
   "execution_count": 7,
   "metadata": {},
   "outputs": [],
   "source": [
    "numericalTransformer = Pipeline(steps=[\n",
    "    ('imputer', SimpleImputer(strategy='most_frequent')),\n",
    "    ('scaler', StandardScaler())\n",
    "])\n",
    "categoricalTransformerHighCard = Pipeline(steps=[\n",
    "    ('ordinal', OrdinalEncoder())\n",
    "])\n",
    "categoricalTransformerLowCard = Pipeline(steps=[\n",
    "    ('onehot', OneHotEncoder(handle_unknown='ignore'))\n",
    "])\n",
    "preprocessor = ColumnTransformer(transformers=[\n",
    "    # ('num', numericalTransformer, numFeatures),\n",
    "    ('cat_low_card', categoricalTransformerLowCard, catFeaturesLowCard),\n",
    "    ('cat_high_card', categoricalTransformerHighCard, catFeaturesHighCard)\n",
    "])"
   ]
  },
  {
   "cell_type": "code",
   "execution_count": 11,
   "metadata": {},
   "outputs": [],
   "source": [
    "models = {\n",
    "    'LightGBM 1': LGBMRegressor(\n",
    "            max_depth = 10, # reduce max depth from 18\n",
    "            learning_rate = 0.03,\n",
    "            metric = 'rmse', \n",
    "            n_estimators = 20000,\n",
    "            reg_alpha = 10.924491968127692,\n",
    "            reg_lambda = 17.396730654687218,\n",
    "            colsample_bytree = 0.11807135201147481,\n",
    "            subsample = 0.7582562557431147,\n",
    "            num_leaves = 63,\n",
    "            min_child_samples = 27,\n",
    "            max_bin = 523,\n",
    "            n_jobs = -1,\n",
    "            random_seed = seed\n",
    "        ),\n",
    "\n",
    "    'LightGBM 2': LGBMRegressor(\n",
    "            max_depth = 10, # reduce max depth from 18\n",
    "            learning_rate = 0.01,\n",
    "            metric = 'rmse', \n",
    "            n_estimators = 20000,\n",
    "            reg_alpha = 10.924491968127692,\n",
    "            reg_lambda = 17.396730654687218,\n",
    "            colsample_bytree = 0.11807135201147481,\n",
    "            subsample = 0.7582562557431147,\n",
    "            num_leaves = 63,\n",
    "            min_child_samples = 27,\n",
    "            max_bin = 523,\n",
    "            n_jobs = -1,\n",
    "            random_seed = seed\n",
    "        ),\n",
    "\n",
    "    'Random Forest': RandomForestRegressor(\n",
    "            max_depth=10,\n",
    "            random_state = seed \n",
    "        ),\n",
    "\n",
    "    'CatBoost': CatBoostRegressor(\n",
    "            loss_function = 'RMSE',\n",
    "            eval_metric = 'RMSE',\n",
    "            depth = 4,\n",
    "            l2_leaf_reg = 4.2,\n",
    "            od_type = 'IncToDec',\n",
    "            bagging_temperature = 290,\n",
    "            cat_features = [col for col in X_test.columns if len(X_test.columns)>9],\n",
    "            iterations = 10000,\n",
    "            thread_count = 4,\n",
    "            random_seed = seed\n",
    "        )}"
   ]
  },
  {
   "cell_type": "code",
   "execution_count": 12,
   "metadata": {},
   "outputs": [],
   "source": [
    "my_pipeline = {'pipe1': Pipeline(steps=[\n",
    "    ('preprocessor', preprocessor),\n",
    "    (list(models)[0], models['LightGBM 1'])\n",
    "]),\n",
    "'pipe2': Pipeline(steps=[\n",
    "    ('preprocessor', preprocessor),\n",
    "    (list(models)[1], models['LightGBM 2'])\n",
    "]),\n",
    "'pipe3': Pipeline(steps=[\n",
    "    ('preprocessor', preprocessor),\n",
    "    (list(models)[2], models['Random Forest'])\n",
    "]),\n",
    "'pipe4': Pipeline(steps=[\n",
    "    ('preprocessor', preprocessor),\n",
    "    (list(models)[3], models['CatBoost'])\n",
    "])}"
   ]
  },
  {
   "cell_type": "code",
   "execution_count": 16,
   "metadata": {},
   "outputs": [
    {
     "data": {
      "text/plain": "{'pipe4': array([0.46747747, 0.29883028, 0.35774727, ..., 0.6774327 , 0.27693633,\n        0.1768933 ])}"
     },
     "execution_count": 16,
     "metadata": {},
     "output_type": "execute_result"
    }
   ],
   "source": [
    "preds = {}"
   ]
  },
  {
   "cell_type": "code",
   "execution_count": 18,
   "metadata": {},
   "outputs": [],
   "source": [
    "def getPreds(pipe):\n",
    "    pipe.fit(X_train, y_train)\n",
    "    return pipe.predict(X_test)\n",
    "\n",
    "preds['pipe1'] = getPreds(my_pipeline['pipe1'])"
   ]
  },
  {
   "cell_type": "code",
   "execution_count": 19,
   "metadata": {},
   "outputs": [],
   "source": [
    "preds['pipe2'] = getPreds(my_pipeline['pipe2'])"
   ]
  },
  {
   "cell_type": "code",
   "execution_count": 20,
   "metadata": {},
   "outputs": [],
   "source": [
    "preds['pipe3'] = getPreds(my_pipeline['pipe3'])"
   ]
  },
  {
   "cell_type": "code",
   "execution_count": null,
   "metadata": {},
   "outputs": [],
   "source": [
    "preds['pipe4'] = getPreds(my_pipeline['pipe4'])"
   ]
  },
  {
   "cell_type": "code",
   "execution_count": 24,
   "metadata": {},
   "outputs": [
    {
     "name": "stdout",
     "output_type": "stream",
     "text": [
      "0.3475272399306827\n",
      "0.35429417296602517\n",
      "0.453893469441556\n",
      "0.31015730239289246\n"
     ]
    }
   ],
   "source": [
    "print(mean_squared_error(y_test, preds['pipe1'], squared=False))\n",
    "print(mean_squared_error(y_test, preds['pipe2'], squared=False))\n",
    "print(mean_squared_error(y_test, preds['pipe3'], squared=False))\n",
    "print(mean_squared_error(y_test, preds['pipe4'], squared=False))"
   ]
  },
  {
   "cell_type": "code",
   "execution_count": null,
   "metadata": {},
   "outputs": [],
   "source": []
  }
 ],
 "metadata": {
  "interpreter": {
   "hash": "d913e3b7d71d98b901f0a7b4469557014f612ac8de5c4a20d183446f21f7d84b"
  },
  "kernelspec": {
   "display_name": "Python 3.8.8 64-bit ('base': conda)",
   "name": "python388jvsc74a57bd0dd0a3e20b39008ad09b0dbcaed9d2433f62832143fbffcce233493464d5843b2"
  },
  "language_info": {
   "codemirror_mode": {
    "name": "ipython",
    "version": 3
   },
   "file_extension": ".py",
   "mimetype": "text/x-python",
   "name": "python",
   "nbconvert_exporter": "python",
   "pygments_lexer": "ipython3",
   "version": "3.8.8"
  },
  "metadata": {
   "interpreter": {
    "hash": "dd0a3e20b39008ad09b0dbcaed9d2433f62832143fbffcce233493464d5843b2"
   }
  },
  "orig_nbformat": 4
 },
 "nbformat": 4,
 "nbformat_minor": 2
}