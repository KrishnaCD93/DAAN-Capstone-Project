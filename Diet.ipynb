{
 "cells": [
  {
   "cell_type": "code",
   "execution_count": null,
   "source": [
    "import base64\r\n",
    "import pandas as pd\r\n",
    "def create_onedrive_directdownload (onedrive_link):\r\n",
    "    data_bytes64 = base64.b64encode(bytes(onedrive_link, 'utf-8'))\r\n",
    "    data_bytes64_String = data_bytes64.decode('utf-8').replace('/','_').replace('+','-').rstrip(\"=\")\r\n",
    "    resultUrl = f\"https://api.onedrive.com/v1.0/shares/u!{data_bytes64_String}/root/content\"\r\n",
    "    return resultUrl\r\n",
    "\r\n",
    "onedrive_link = \"https://1drv.ms/u/s!AvCFI7fzKgPmhPgX2ISEEtPDUQPQLQ?e=u1lxao\"\r\n",
    "onedrive_direct_link = create_onedrive_directdownload(onedrive_link)\r\n",
    "df = pd.read_excel(onedrive_direct_link)\r\n",
    "df.head()"
   ],
   "outputs": [],
   "metadata": {}
  }
 ],
 "metadata": {
  "orig_nbformat": 4,
  "language_info": {
   "name": "python"
  }
 },
 "nbformat": 4,
 "nbformat_minor": 2
}